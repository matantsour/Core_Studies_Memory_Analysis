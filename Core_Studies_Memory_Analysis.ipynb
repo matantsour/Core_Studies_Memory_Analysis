{
 "cells": [
  {
   "cell_type": "markdown",
   "metadata": {},
   "source": [
    "# 1. Acquiring the data:"
   ]
  },
  {
   "cell_type": "code",
   "execution_count": 748,
   "metadata": {},
   "outputs": [
    {
     "data": {
      "text/html": [
       "        <script type=\"text/javascript\">\n",
       "        window.PlotlyConfig = {MathJaxConfig: 'local'};\n",
       "        if (window.MathJax) {MathJax.Hub.Config({SVG: {font: \"STIX-Web\"}});}\n",
       "        if (typeof require !== 'undefined') {\n",
       "        require.undef(\"plotly\");\n",
       "        requirejs.config({\n",
       "            paths: {\n",
       "                'plotly': ['https://cdn.plot.ly/plotly-latest.min']\n",
       "            }\n",
       "        });\n",
       "        require(['plotly'], function(Plotly) {\n",
       "            window._Plotly = Plotly;\n",
       "        });\n",
       "        }\n",
       "        </script>\n",
       "        "
      ]
     },
     "metadata": {},
     "output_type": "display_data"
    }
   ],
   "source": [
    "import numpy as np\n",
    "import pandas as pd\n",
    "import matplotlib \n",
    "from matplotlib import pyplot as plt\n",
    "import seaborn as sns\n",
    "import cufflinks as cf\n",
    "from plotly.offline import download_plotlyjs, init_notebook_mode, plot, iplot\n",
    "\n",
    "%matplotlib inline\n",
    "cf.go_offline()\n",
    "\n",
    "def enable_plotly_in_cell():\n",
    "  import IPython\n",
    "  from plotly.offline import init_notebook_mode\n",
    "  display(IPython.core.display.HTML('''<script src=\"/static/components/requirejs/require.js\"></script>'''))\n",
    "  init_notebook_mode(connected=False)"
   ]
  },
  {
   "cell_type": "code",
   "execution_count": 749,
   "metadata": {},
   "outputs": [],
   "source": [
    "responses=pd.read_excel(\"responses.xlsx\")"
   ]
  },
  {
   "cell_type": "markdown",
   "metadata": {},
   "source": [
    "*Age_Range* --> string : the range of participant's age \n",
    "\n",
    "*All Tests* --> string : did the participant complete his matriculation tests\n",
    "\n",
    "*Last_Test* --> string : A range of time describing when was the last test \n",
    "\n",
    "*Is_Academic* --> string : is the participant an academic student now or has ever was. \n",
    "\n",
    "*Intensity* --> float : an answer describing how much does the participant consider his efforts during the exam's period in HS*\n",
    "\n",
    "*English_Accomplish* --> float : on a scale from 1-5, how did the participant consider his accomplishments in English in HS\n",
    "\n",
    "*Hebrew_Accomplish* --> float : on a scale from 1-5, how did the participant consider his accomplishments in Hebrew in HS\n",
    "\n",
    "*Math_Accomplish* --> float : on a scale from 1-5, how did the participant consider his accomplishments in Math in Hs\n",
    "\n",
    "*Civil* --> float : the amount of democratic principals the participant remembered. \n",
    "\n",
    "*Lit_1* --> float :  the amount of litteriture pieces the participant remembered. \n",
    "\n",
    "*Lit_2* --> float :  the amount of the main conflicts from those litteriture pieces that the participant remembered.  \n",
    "\n",
    "*History* --> string : the subjects/ topic that the participant remembers that were taught. described as a list.\n",
    "\n",
    "*Math_Level* --> float : the Math level of the participant in HS \n",
    "\n",
    "*Math_Level3* --> float : If the participant's Math level was 3:  the sense of capability  in solving this Math question.\n",
    "\n",
    "*Math_Level4_5* --> float : If the participant's Math level was 4 or 5 :  the sense of capability  in solving this Math question. \n",
    "\n",
    "*HS= High School\n"
   ]
  },
  {
   "cell_type": "code",
   "execution_count": 750,
   "metadata": {},
   "outputs": [
    {
     "data": {
      "text/html": [
       "<div>\n",
       "<style scoped>\n",
       "    .dataframe tbody tr th:only-of-type {\n",
       "        vertical-align: middle;\n",
       "    }\n",
       "\n",
       "    .dataframe tbody tr th {\n",
       "        vertical-align: top;\n",
       "    }\n",
       "\n",
       "    .dataframe thead th {\n",
       "        text-align: right;\n",
       "    }\n",
       "</style>\n",
       "<table border=\"1\" class=\"dataframe\">\n",
       "  <thead>\n",
       "    <tr style=\"text-align: right;\">\n",
       "      <th></th>\n",
       "      <th>Age_Range</th>\n",
       "      <th>All Tests</th>\n",
       "      <th>Last_Test</th>\n",
       "      <th>Is_Academic</th>\n",
       "      <th>Intensity</th>\n",
       "      <th>English_Accomplish</th>\n",
       "      <th>Hebrew_Accomplish</th>\n",
       "      <th>Math_Accomplish</th>\n",
       "      <th>Civil</th>\n",
       "      <th>Lit_1</th>\n",
       "      <th>Lit_2</th>\n",
       "      <th>History</th>\n",
       "      <th>Math_Level</th>\n",
       "      <th>Math_Level3</th>\n",
       "      <th>Math_Level4_5</th>\n",
       "    </tr>\n",
       "  </thead>\n",
       "  <tbody>\n",
       "    <tr>\n",
       "      <th>0</th>\n",
       "      <td>23-28</td>\n",
       "      <td>Yes</td>\n",
       "      <td>5-10</td>\n",
       "      <td>yes</td>\n",
       "      <td>10.0</td>\n",
       "      <td>4.0</td>\n",
       "      <td>3.0</td>\n",
       "      <td>4.0</td>\n",
       "      <td>0.0</td>\n",
       "      <td>3.0</td>\n",
       "      <td>0.0</td>\n",
       "      <td>השואה</td>\n",
       "      <td>3.0</td>\n",
       "      <td>4.0</td>\n",
       "      <td>NaN</td>\n",
       "    </tr>\n",
       "    <tr>\n",
       "      <th>1</th>\n",
       "      <td>23-28</td>\n",
       "      <td>Yes</td>\n",
       "      <td>5-10</td>\n",
       "      <td>yes</td>\n",
       "      <td>8.0</td>\n",
       "      <td>5.0</td>\n",
       "      <td>4.0</td>\n",
       "      <td>4.0</td>\n",
       "      <td>3.0</td>\n",
       "      <td>4.0</td>\n",
       "      <td>2.0</td>\n",
       "      <td>מלחמת העולם השניה, הקמת המדינה, עליות למדינה, ...</td>\n",
       "      <td>4.0</td>\n",
       "      <td>NaN</td>\n",
       "      <td>4.0</td>\n",
       "    </tr>\n",
       "    <tr>\n",
       "      <th>2</th>\n",
       "      <td>20-23</td>\n",
       "      <td>NaN</td>\n",
       "      <td>NaN</td>\n",
       "      <td>NaN</td>\n",
       "      <td>NaN</td>\n",
       "      <td>NaN</td>\n",
       "      <td>NaN</td>\n",
       "      <td>NaN</td>\n",
       "      <td>NaN</td>\n",
       "      <td>NaN</td>\n",
       "      <td>NaN</td>\n",
       "      <td>NaN</td>\n",
       "      <td>NaN</td>\n",
       "      <td>NaN</td>\n",
       "      <td>NaN</td>\n",
       "    </tr>\n",
       "    <tr>\n",
       "      <th>3</th>\n",
       "      <td>23-28</td>\n",
       "      <td>Yes</td>\n",
       "      <td>5-10</td>\n",
       "      <td>yes</td>\n",
       "      <td>10.0</td>\n",
       "      <td>4.0</td>\n",
       "      <td>3.0</td>\n",
       "      <td>3.0</td>\n",
       "      <td>0.0</td>\n",
       "      <td>0.0</td>\n",
       "      <td>0.0</td>\n",
       "      <td>NaN</td>\n",
       "      <td>3.0</td>\n",
       "      <td>5.0</td>\n",
       "      <td>NaN</td>\n",
       "    </tr>\n",
       "    <tr>\n",
       "      <th>4</th>\n",
       "      <td>23-28</td>\n",
       "      <td>Yes</td>\n",
       "      <td>5-10</td>\n",
       "      <td>yes</td>\n",
       "      <td>6.0</td>\n",
       "      <td>5.0</td>\n",
       "      <td>3.0</td>\n",
       "      <td>3.0</td>\n",
       "      <td>2.0</td>\n",
       "      <td>3.0</td>\n",
       "      <td>2.0</td>\n",
       "      <td>גרמניה הנאצית, מלחמת העולם השניה, האימפריה העו...</td>\n",
       "      <td>3.0</td>\n",
       "      <td>5.0</td>\n",
       "      <td>NaN</td>\n",
       "    </tr>\n",
       "    <tr>\n",
       "      <th>...</th>\n",
       "      <td>...</td>\n",
       "      <td>...</td>\n",
       "      <td>...</td>\n",
       "      <td>...</td>\n",
       "      <td>...</td>\n",
       "      <td>...</td>\n",
       "      <td>...</td>\n",
       "      <td>...</td>\n",
       "      <td>...</td>\n",
       "      <td>...</td>\n",
       "      <td>...</td>\n",
       "      <td>...</td>\n",
       "      <td>...</td>\n",
       "      <td>...</td>\n",
       "      <td>...</td>\n",
       "    </tr>\n",
       "    <tr>\n",
       "      <th>94</th>\n",
       "      <td>18-20</td>\n",
       "      <td>Yes</td>\n",
       "      <td>1-3</td>\n",
       "      <td>NaN</td>\n",
       "      <td>7.0</td>\n",
       "      <td>5.0</td>\n",
       "      <td>3.0</td>\n",
       "      <td>4.0</td>\n",
       "      <td>1.0</td>\n",
       "      <td>2.0</td>\n",
       "      <td>2.0</td>\n",
       "      <td>NaN</td>\n",
       "      <td>5.0</td>\n",
       "      <td>NaN</td>\n",
       "      <td>1.0</td>\n",
       "    </tr>\n",
       "    <tr>\n",
       "      <th>95</th>\n",
       "      <td>18-20</td>\n",
       "      <td>Yes</td>\n",
       "      <td>5-10</td>\n",
       "      <td>yes</td>\n",
       "      <td>7.0</td>\n",
       "      <td>4.0</td>\n",
       "      <td>3.0</td>\n",
       "      <td>2.0</td>\n",
       "      <td>1.0</td>\n",
       "      <td>3.0</td>\n",
       "      <td>2.0</td>\n",
       "      <td>יהדות בגדד, מלחמת העולם השנייה, מלחמת העולם הר...</td>\n",
       "      <td>3.0</td>\n",
       "      <td>4.0</td>\n",
       "      <td>NaN</td>\n",
       "    </tr>\n",
       "    <tr>\n",
       "      <th>96</th>\n",
       "      <td>18-20</td>\n",
       "      <td>Yes</td>\n",
       "      <td>1-3</td>\n",
       "      <td>NaN</td>\n",
       "      <td>7.0</td>\n",
       "      <td>3.0</td>\n",
       "      <td>5.0</td>\n",
       "      <td>4.0</td>\n",
       "      <td>5.0</td>\n",
       "      <td>8.0</td>\n",
       "      <td>4.0</td>\n",
       "      <td>לאום,לאומיות,דמוקרטיה,</td>\n",
       "      <td>5.0</td>\n",
       "      <td>NaN</td>\n",
       "      <td>3.0</td>\n",
       "    </tr>\n",
       "    <tr>\n",
       "      <th>97</th>\n",
       "      <td>18-20</td>\n",
       "      <td>Yes</td>\n",
       "      <td>1-3</td>\n",
       "      <td>NaN</td>\n",
       "      <td>10.0</td>\n",
       "      <td>5.0</td>\n",
       "      <td>2.0</td>\n",
       "      <td>3.0</td>\n",
       "      <td>2.0</td>\n",
       "      <td>10.0</td>\n",
       "      <td>8.0</td>\n",
       "      <td>NaN</td>\n",
       "      <td>3.0</td>\n",
       "      <td>2.0</td>\n",
       "      <td>NaN</td>\n",
       "    </tr>\n",
       "    <tr>\n",
       "      <th>98</th>\n",
       "      <td>18-20</td>\n",
       "      <td>Yes</td>\n",
       "      <td>3 month - 1 year</td>\n",
       "      <td>NaN</td>\n",
       "      <td>5.0</td>\n",
       "      <td>5.0</td>\n",
       "      <td>3.0</td>\n",
       "      <td>5.0</td>\n",
       "      <td>0.0</td>\n",
       "      <td>3.0</td>\n",
       "      <td>0.0</td>\n",
       "      <td>תנועת המרי העברי, מלחמת העצמאות, מלחמת העולם ה2</td>\n",
       "      <td>4.0</td>\n",
       "      <td>NaN</td>\n",
       "      <td>5.0</td>\n",
       "    </tr>\n",
       "  </tbody>\n",
       "</table>\n",
       "<p>99 rows × 15 columns</p>\n",
       "</div>"
      ],
      "text/plain": [
       "   Age_Range All Tests         Last_Test Is_Academic  Intensity  \\\n",
       "0      23-28       Yes              5-10         yes       10.0   \n",
       "1      23-28       Yes              5-10         yes        8.0   \n",
       "2      20-23       NaN               NaN         NaN        NaN   \n",
       "3      23-28       Yes              5-10         yes       10.0   \n",
       "4      23-28       Yes              5-10         yes        6.0   \n",
       "..       ...       ...               ...         ...        ...   \n",
       "94     18-20       Yes               1-3         NaN        7.0   \n",
       "95     18-20       Yes              5-10         yes        7.0   \n",
       "96     18-20       Yes               1-3         NaN        7.0   \n",
       "97     18-20       Yes               1-3         NaN       10.0   \n",
       "98     18-20       Yes  3 month - 1 year         NaN        5.0   \n",
       "\n",
       "    English_Accomplish  Hebrew_Accomplish  Math_Accomplish  Civil  Lit_1  \\\n",
       "0                  4.0                3.0              4.0    0.0    3.0   \n",
       "1                  5.0                4.0              4.0    3.0    4.0   \n",
       "2                  NaN                NaN              NaN    NaN    NaN   \n",
       "3                  4.0                3.0              3.0    0.0    0.0   \n",
       "4                  5.0                3.0              3.0    2.0    3.0   \n",
       "..                 ...                ...              ...    ...    ...   \n",
       "94                 5.0                3.0              4.0    1.0    2.0   \n",
       "95                 4.0                3.0              2.0    1.0    3.0   \n",
       "96                 3.0                5.0              4.0    5.0    8.0   \n",
       "97                 5.0                2.0              3.0    2.0   10.0   \n",
       "98                 5.0                3.0              5.0    0.0    3.0   \n",
       "\n",
       "    Lit_2                                            History  Math_Level  \\\n",
       "0     0.0                                              השואה         3.0   \n",
       "1     2.0  מלחמת העולם השניה, הקמת המדינה, עליות למדינה, ...         4.0   \n",
       "2     NaN                                                NaN         NaN   \n",
       "3     0.0                                                NaN         3.0   \n",
       "4     2.0  גרמניה הנאצית, מלחמת העולם השניה, האימפריה העו...         3.0   \n",
       "..    ...                                                ...         ...   \n",
       "94    2.0                                                NaN         5.0   \n",
       "95    2.0  יהדות בגדד, מלחמת העולם השנייה, מלחמת העולם הר...         3.0   \n",
       "96    4.0                             לאום,לאומיות,דמוקרטיה,         5.0   \n",
       "97    8.0                                                NaN         3.0   \n",
       "98    0.0    תנועת המרי העברי, מלחמת העצמאות, מלחמת העולם ה2         4.0   \n",
       "\n",
       "    Math_Level3  Math_Level4_5  \n",
       "0           4.0            NaN  \n",
       "1           NaN            4.0  \n",
       "2           NaN            NaN  \n",
       "3           5.0            NaN  \n",
       "4           5.0            NaN  \n",
       "..          ...            ...  \n",
       "94          NaN            1.0  \n",
       "95          4.0            NaN  \n",
       "96          NaN            3.0  \n",
       "97          2.0            NaN  \n",
       "98          NaN            5.0  \n",
       "\n",
       "[99 rows x 15 columns]"
      ]
     },
     "execution_count": 750,
     "metadata": {},
     "output_type": "execute_result"
    }
   ],
   "source": [
    "responses"
   ]
  },
  {
   "cell_type": "code",
   "execution_count": 751,
   "metadata": {},
   "outputs": [
    {
     "name": "stdout",
     "output_type": "stream",
     "text": [
      "<class 'pandas.core.frame.DataFrame'>\n",
      "RangeIndex: 99 entries, 0 to 98\n",
      "Data columns (total 15 columns):\n",
      " #   Column              Non-Null Count  Dtype  \n",
      "---  ------              --------------  -----  \n",
      " 0   Age_Range           99 non-null     object \n",
      " 1   All Tests           84 non-null     object \n",
      " 2   Last_Test           84 non-null     object \n",
      " 3   Is_Academic         51 non-null     object \n",
      " 4   Intensity           84 non-null     float64\n",
      " 5   English_Accomplish  84 non-null     float64\n",
      " 6   Hebrew_Accomplish   84 non-null     float64\n",
      " 7   Math_Accomplish     84 non-null     float64\n",
      " 8   Civil               84 non-null     float64\n",
      " 9   Lit_1               83 non-null     float64\n",
      " 10  Lit_2               84 non-null     float64\n",
      " 11  History             58 non-null     object \n",
      " 12  Math_Level          84 non-null     float64\n",
      " 13  Math_Level3         22 non-null     float64\n",
      " 14  Math_Level4_5       62 non-null     float64\n",
      "dtypes: float64(10), object(5)\n",
      "memory usage: 11.7+ KB\n"
     ]
    }
   ],
   "source": [
    "responses.info()"
   ]
  },
  {
   "cell_type": "markdown",
   "metadata": {},
   "source": [
    "# 2. Cleaning the data:"
   ]
  },
  {
   "cell_type": "markdown",
   "metadata": {},
   "source": [
    "not all of the 99 responses are valid.\n",
    "we need to keep only responses from those participants whose ages are 18-20 or 23-28. "
   ]
  },
  {
   "cell_type": "code",
   "execution_count": 752,
   "metadata": {},
   "outputs": [
    {
     "data": {
      "text/plain": [
       "18-20    51\n",
       "23-28    41\n",
       "20-23     7\n",
       "Name: Age_Range, dtype: int64"
      ]
     },
     "execution_count": 752,
     "metadata": {},
     "output_type": "execute_result"
    }
   ],
   "source": [
    "responses['Age_Range'].value_counts()"
   ]
  },
  {
   "cell_type": "code",
   "execution_count": 753,
   "metadata": {},
   "outputs": [],
   "source": [
    "responses=responses.loc[(responses['Age_Range']=='18-20') | ((responses['Age_Range']=='23-28'))]"
   ]
  },
  {
   "cell_type": "markdown",
   "metadata": {},
   "source": [
    "Now, we need to filter those who didn't finish their examns. let's check responses['All Tests']"
   ]
  },
  {
   "cell_type": "code",
   "execution_count": 754,
   "metadata": {},
   "outputs": [
    {
     "data": {
      "text/plain": [
       "92"
      ]
     },
     "execution_count": 754,
     "metadata": {},
     "output_type": "execute_result"
    }
   ],
   "source": [
    "len(responses)"
   ]
  },
  {
   "cell_type": "markdown",
   "metadata": {},
   "source": [
    "so we have now 92 responses"
   ]
  },
  {
   "cell_type": "code",
   "execution_count": 755,
   "metadata": {},
   "outputs": [
    {
     "data": {
      "text/plain": [
       "Yes    84\n",
       "Name: All Tests, dtype: int64"
      ]
     },
     "execution_count": 755,
     "metadata": {},
     "output_type": "execute_result"
    }
   ],
   "source": [
    "responses['All Tests'].value_counts()"
   ]
  },
  {
   "cell_type": "markdown",
   "metadata": {},
   "source": [
    "but only 84 are valid"
   ]
  },
  {
   "cell_type": "code",
   "execution_count": 756,
   "metadata": {},
   "outputs": [
    {
     "data": {
      "text/plain": [
       "nan"
      ]
     },
     "execution_count": 756,
     "metadata": {},
     "output_type": "execute_result"
    }
   ],
   "source": [
    "responses.loc[67,'All Tests']"
   ]
  },
  {
   "cell_type": "markdown",
   "metadata": {},
   "source": [
    "we have nan values. "
   ]
  },
  {
   "cell_type": "code",
   "execution_count": 757,
   "metadata": {},
   "outputs": [
    {
     "data": {
      "text/plain": [
       "0     False\n",
       "1     False\n",
       "3     False\n",
       "4     False\n",
       "5     False\n",
       "      ...  \n",
       "94    False\n",
       "95    False\n",
       "96    False\n",
       "97    False\n",
       "98    False\n",
       "Name: All Tests, Length: 92, dtype: bool"
      ]
     },
     "execution_count": 757,
     "metadata": {},
     "output_type": "execute_result"
    }
   ],
   "source": [
    "responses['All Tests'].isna()"
   ]
  },
  {
   "cell_type": "code",
   "execution_count": 758,
   "metadata": {},
   "outputs": [],
   "source": [
    "responses.drop(list(responses[responses['All Tests'].isna()].index),axis=0,inplace=True)"
   ]
  },
  {
   "cell_type": "code",
   "execution_count": 759,
   "metadata": {},
   "outputs": [
    {
     "data": {
      "text/plain": [
       "84"
      ]
     },
     "execution_count": 759,
     "metadata": {},
     "output_type": "execute_result"
    }
   ],
   "source": [
    "len(responses)"
   ]
  },
  {
   "cell_type": "markdown",
   "metadata": {},
   "source": [
    "now we are down to 84 valid responses"
   ]
  },
  {
   "cell_type": "markdown",
   "metadata": {},
   "source": [
    "let's check that no one has done their last test in the last 3 month. "
   ]
  },
  {
   "cell_type": "code",
   "execution_count": 760,
   "metadata": {},
   "outputs": [
    {
     "data": {
      "text/plain": [
       "5-10                38\n",
       "1-3                 29\n",
       "3-5                 10\n",
       "3 month - 1 year     7\n",
       "Name: Last_Test, dtype: int64"
      ]
     },
     "execution_count": 760,
     "metadata": {},
     "output_type": "execute_result"
    }
   ],
   "source": [
    "responses['Last_Test'].value_counts()"
   ]
  },
  {
   "cell_type": "markdown",
   "metadata": {},
   "source": [
    "FINAL STEP, LET'S REORGANIZE THE INDEX"
   ]
  },
  {
   "cell_type": "code",
   "execution_count": 761,
   "metadata": {},
   "outputs": [],
   "source": [
    "responses.reset_index(drop=True,inplace=True)"
   ]
  },
  {
   "cell_type": "markdown",
   "metadata": {},
   "source": [
    "# 3. Determine the Individual Memory Quality Score"
   ]
  },
  {
   "cell_type": "markdown",
   "metadata": {},
   "source": [
    "Each participant was given an individual Memory Quality Score (MQS) based of his memory test answers.\n",
    "whereas X represents the score for each category, this is how the MQS was calculated\n",
    "Each category's score is 25% of the MQS\n",
    "\n",
    "    A. Civil Studies: x*100/6 (6 is the maximun score, so if x=6, this category's score is 100)\n",
    "\n",
    "    B.Litterature Studies:  B1) 10% for the first question\n",
    "                            B2)15% for the second one.\n",
    "    for each question the score is X*10. (so if the subject remembered 5 pieces of litterature  out of 10, the score will be 50.\n",
    "    \n",
    "    C. History Studies: X*100/6 ( 6 was the maximun answer given in this exam, so in fact the highest number of topics one was able to recollect out of 99 responders\n",
    "    \n",
    "    D. Math Studies: X*100/5 (if the answer was 5, than the score is 100 for this category)\n",
    "\n",
    "   ##### MQS= 0.25 * (A+C+D) + 0.1 * B1 + 0.15 * B2 "
   ]
  },
  {
   "cell_type": "markdown",
   "metadata": {},
   "source": [
    "--- \n",
    "##### *New Colums for SCORES based of the core studies categories :*\n",
    "    Civil  --> Civil_S  =  ( x * 100 ) / 6                 # 6 principles of Democracy\n",
    "\n",
    "    Lit_1  --> Lit_1_S  =  ( x * 100 ) / 10                # 10 pieces of litterature max : 10%\n",
    "\n",
    "    Lit_2  --> Lit_2_S  =  ( x * 100 ) / 10                # 10 pieces of litterature max : 15%\n",
    "\n",
    "    History  --> His_N  =   number of topics/ subjects from History studies\n",
    "    \n",
    "    History  --> His_S  =   ( x * 100 ) / max(His_N)           # 6 is the max subjects one could remember in this questionnaire\n",
    "\n",
    "    Math_Level3   --> Math_3_S  =   ( x * 100 ) / 5        # A scale from 1-5 (sense of capability in resolving example math question)\n",
    "\n",
    "    Math_Level4_5  --> Math_4_5_S  =  ( x * 100 ) / 5       # A scale from 1-5 (sense of capability in resolving example math question)\n",
    "\n",
    "    Math_Score  --> Math_S  =  MAX(Math_3_S,Math_4_5_S)     # One can only have score in 3 units or 4/5 \n",
    "    units"
   ]
  },
  {
   "cell_type": "code",
   "execution_count": 762,
   "metadata": {},
   "outputs": [],
   "source": [
    "new_cols=['Civil_S','Lit_1_S','Lit_2_S','His_N','His_S','Math_3_S','Math_4_5_S','Math_S']\n",
    "for c in new_cols: \n",
    "    responses[c]=0"
   ]
  },
  {
   "cell_type": "code",
   "execution_count": 763,
   "metadata": {},
   "outputs": [
    {
     "data": {
      "text/html": [
       "<div>\n",
       "<style scoped>\n",
       "    .dataframe tbody tr th:only-of-type {\n",
       "        vertical-align: middle;\n",
       "    }\n",
       "\n",
       "    .dataframe tbody tr th {\n",
       "        vertical-align: top;\n",
       "    }\n",
       "\n",
       "    .dataframe thead th {\n",
       "        text-align: right;\n",
       "    }\n",
       "</style>\n",
       "<table border=\"1\" class=\"dataframe\">\n",
       "  <thead>\n",
       "    <tr style=\"text-align: right;\">\n",
       "      <th></th>\n",
       "      <th>Civil</th>\n",
       "      <th>Civil_S</th>\n",
       "    </tr>\n",
       "  </thead>\n",
       "  <tbody>\n",
       "    <tr>\n",
       "      <th>81</th>\n",
       "      <td>5.0</td>\n",
       "      <td>83.333333</td>\n",
       "    </tr>\n",
       "    <tr>\n",
       "      <th>82</th>\n",
       "      <td>2.0</td>\n",
       "      <td>33.333333</td>\n",
       "    </tr>\n",
       "    <tr>\n",
       "      <th>83</th>\n",
       "      <td>0.0</td>\n",
       "      <td>0.000000</td>\n",
       "    </tr>\n",
       "  </tbody>\n",
       "</table>\n",
       "</div>"
      ],
      "text/plain": [
       "    Civil    Civil_S\n",
       "81    5.0  83.333333\n",
       "82    2.0  33.333333\n",
       "83    0.0   0.000000"
      ]
     },
     "execution_count": 763,
     "metadata": {},
     "output_type": "execute_result"
    }
   ],
   "source": [
    "#civil\n",
    "responses['Civil_S']=responses['Civil'] *100/6\n",
    "responses[['Civil','Civil_S']].tail(3)"
   ]
  },
  {
   "cell_type": "code",
   "execution_count": 764,
   "metadata": {},
   "outputs": [
    {
     "data": {
      "text/html": [
       "<div>\n",
       "<style scoped>\n",
       "    .dataframe tbody tr th:only-of-type {\n",
       "        vertical-align: middle;\n",
       "    }\n",
       "\n",
       "    .dataframe tbody tr th {\n",
       "        vertical-align: top;\n",
       "    }\n",
       "\n",
       "    .dataframe thead th {\n",
       "        text-align: right;\n",
       "    }\n",
       "</style>\n",
       "<table border=\"1\" class=\"dataframe\">\n",
       "  <thead>\n",
       "    <tr style=\"text-align: right;\">\n",
       "      <th></th>\n",
       "      <th>Lit_1</th>\n",
       "      <th>Lit_2</th>\n",
       "      <th>Lit_1_S</th>\n",
       "      <th>Lit_2_S</th>\n",
       "    </tr>\n",
       "  </thead>\n",
       "  <tbody>\n",
       "    <tr>\n",
       "      <th>81</th>\n",
       "      <td>8.0</td>\n",
       "      <td>4.0</td>\n",
       "      <td>80.0</td>\n",
       "      <td>40.0</td>\n",
       "    </tr>\n",
       "    <tr>\n",
       "      <th>82</th>\n",
       "      <td>10.0</td>\n",
       "      <td>8.0</td>\n",
       "      <td>100.0</td>\n",
       "      <td>80.0</td>\n",
       "    </tr>\n",
       "    <tr>\n",
       "      <th>83</th>\n",
       "      <td>3.0</td>\n",
       "      <td>0.0</td>\n",
       "      <td>30.0</td>\n",
       "      <td>0.0</td>\n",
       "    </tr>\n",
       "  </tbody>\n",
       "</table>\n",
       "</div>"
      ],
      "text/plain": [
       "    Lit_1  Lit_2  Lit_1_S  Lit_2_S\n",
       "81    8.0    4.0     80.0     40.0\n",
       "82   10.0    8.0    100.0     80.0\n",
       "83    3.0    0.0     30.0      0.0"
      ]
     },
     "execution_count": 764,
     "metadata": {},
     "output_type": "execute_result"
    }
   ],
   "source": [
    "#lit\n",
    "responses['Lit_1_S']=responses['Lit_1'].apply(lambda x: 0 if  pd.isnull(x) else x*10)\n",
    "responses['Lit_2_S']=responses['Lit_2'].apply(lambda x: 0 if  pd.isnull(x) else x*10)\n",
    "responses[['Lit_1','Lit_2','Lit_1_S','Lit_2_S']].tail(3)"
   ]
  },
  {
   "cell_type": "code",
   "execution_count": 765,
   "metadata": {},
   "outputs": [
    {
     "data": {
      "text/plain": [
       "0                                                 השואה\n",
       "1     מלחמת העולם השניה, הקמת המדינה, עליות למדינה, ...\n",
       "2                                                   NaN\n",
       "3     גרמניה הנאצית, מלחמת העולם השניה, האימפריה העו...\n",
       "4     הצהרת כורש,המהפכה ההלניסטית,המהפכה הסלבית,הגור...\n",
       "                            ...                        \n",
       "79                                                  NaN\n",
       "80    יהדות בגדד, מלחמת העולם השנייה, מלחמת העולם הר...\n",
       "81                               לאום,לאומיות,דמוקרטיה,\n",
       "82                                                  NaN\n",
       "83      תנועת המרי העברי, מלחמת העצמאות, מלחמת העולם ה2\n",
       "Name: History, Length: 84, dtype: object"
      ]
     },
     "execution_count": 765,
     "metadata": {},
     "output_type": "execute_result"
    }
   ],
   "source": [
    "#history\n",
    "responses['History']"
   ]
  },
  {
   "cell_type": "code",
   "execution_count": 766,
   "metadata": {},
   "outputs": [],
   "source": [
    "def how_much_topics(line):\n",
    "    if pd.isnull(line):\n",
    "        return 0\n",
    "    else:\n",
    "        return len(str(line).split(','))"
   ]
  },
  {
   "cell_type": "code",
   "execution_count": 767,
   "metadata": {},
   "outputs": [],
   "source": [
    "responses['His_N']=responses['History'].apply(lambda x:how_much_topics(x))"
   ]
  },
  {
   "cell_type": "code",
   "execution_count": 768,
   "metadata": {},
   "outputs": [
    {
     "data": {
      "text/html": [
       "<div>\n",
       "<style scoped>\n",
       "    .dataframe tbody tr th:only-of-type {\n",
       "        vertical-align: middle;\n",
       "    }\n",
       "\n",
       "    .dataframe tbody tr th {\n",
       "        vertical-align: top;\n",
       "    }\n",
       "\n",
       "    .dataframe thead th {\n",
       "        text-align: right;\n",
       "    }\n",
       "</style>\n",
       "<table border=\"1\" class=\"dataframe\">\n",
       "  <thead>\n",
       "    <tr style=\"text-align: right;\">\n",
       "      <th></th>\n",
       "      <th>History</th>\n",
       "      <th>His_N</th>\n",
       "    </tr>\n",
       "  </thead>\n",
       "  <tbody>\n",
       "    <tr>\n",
       "      <th>0</th>\n",
       "      <td>השואה</td>\n",
       "      <td>1</td>\n",
       "    </tr>\n",
       "    <tr>\n",
       "      <th>1</th>\n",
       "      <td>מלחמת העולם השניה, הקמת המדינה, עליות למדינה, ...</td>\n",
       "      <td>4</td>\n",
       "    </tr>\n",
       "    <tr>\n",
       "      <th>3</th>\n",
       "      <td>גרמניה הנאצית, מלחמת העולם השניה, האימפריה העו...</td>\n",
       "      <td>3</td>\n",
       "    </tr>\n",
       "    <tr>\n",
       "      <th>4</th>\n",
       "      <td>הצהרת כורש,המהפכה ההלניסטית,המהפכה הסלבית,הגור...</td>\n",
       "      <td>4</td>\n",
       "    </tr>\n",
       "    <tr>\n",
       "      <th>5</th>\n",
       "      <td>מלחמת העולם השנייה, עליית הנאצים לשלטון,</td>\n",
       "      <td>3</td>\n",
       "    </tr>\n",
       "  </tbody>\n",
       "</table>\n",
       "</div>"
      ],
      "text/plain": [
       "                                             History  His_N\n",
       "0                                              השואה      1\n",
       "1  מלחמת העולם השניה, הקמת המדינה, עליות למדינה, ...      4\n",
       "3  גרמניה הנאצית, מלחמת העולם השניה, האימפריה העו...      3\n",
       "4  הצהרת כורש,המהפכה ההלניסטית,המהפכה הסלבית,הגור...      4\n",
       "5          מלחמת העולם השנייה, עליית הנאצים לשלטון,       3"
      ]
     },
     "execution_count": 768,
     "metadata": {},
     "output_type": "execute_result"
    }
   ],
   "source": [
    "responses.loc[~responses['History'].isna(),['History','His_N']].head(5)"
   ]
  },
  {
   "cell_type": "code",
   "execution_count": 769,
   "metadata": {},
   "outputs": [
    {
     "data": {
      "text/plain": [
       "6"
      ]
     },
     "execution_count": 769,
     "metadata": {},
     "output_type": "execute_result"
    }
   ],
   "source": [
    "max_topic=responses['His_N'].max()\n",
    "max_topic"
   ]
  },
  {
   "cell_type": "code",
   "execution_count": 770,
   "metadata": {},
   "outputs": [
    {
     "data": {
      "text/html": [
       "<div>\n",
       "<style scoped>\n",
       "    .dataframe tbody tr th:only-of-type {\n",
       "        vertical-align: middle;\n",
       "    }\n",
       "\n",
       "    .dataframe tbody tr th {\n",
       "        vertical-align: top;\n",
       "    }\n",
       "\n",
       "    .dataframe thead th {\n",
       "        text-align: right;\n",
       "    }\n",
       "</style>\n",
       "<table border=\"1\" class=\"dataframe\">\n",
       "  <thead>\n",
       "    <tr style=\"text-align: right;\">\n",
       "      <th></th>\n",
       "      <th>History</th>\n",
       "      <th>His_N</th>\n",
       "      <th>His_S</th>\n",
       "    </tr>\n",
       "  </thead>\n",
       "  <tbody>\n",
       "    <tr>\n",
       "      <th>0</th>\n",
       "      <td>השואה</td>\n",
       "      <td>1</td>\n",
       "      <td>16.666667</td>\n",
       "    </tr>\n",
       "    <tr>\n",
       "      <th>1</th>\n",
       "      <td>מלחמת העולם השניה, הקמת המדינה, עליות למדינה, ...</td>\n",
       "      <td>4</td>\n",
       "      <td>66.666667</td>\n",
       "    </tr>\n",
       "    <tr>\n",
       "      <th>3</th>\n",
       "      <td>גרמניה הנאצית, מלחמת העולם השניה, האימפריה העו...</td>\n",
       "      <td>3</td>\n",
       "      <td>50.000000</td>\n",
       "    </tr>\n",
       "    <tr>\n",
       "      <th>4</th>\n",
       "      <td>הצהרת כורש,המהפכה ההלניסטית,המהפכה הסלבית,הגור...</td>\n",
       "      <td>4</td>\n",
       "      <td>66.666667</td>\n",
       "    </tr>\n",
       "    <tr>\n",
       "      <th>5</th>\n",
       "      <td>מלחמת העולם השנייה, עליית הנאצים לשלטון,</td>\n",
       "      <td>3</td>\n",
       "      <td>50.000000</td>\n",
       "    </tr>\n",
       "  </tbody>\n",
       "</table>\n",
       "</div>"
      ],
      "text/plain": [
       "                                             History  His_N      His_S\n",
       "0                                              השואה      1  16.666667\n",
       "1  מלחמת העולם השניה, הקמת המדינה, עליות למדינה, ...      4  66.666667\n",
       "3  גרמניה הנאצית, מלחמת העולם השניה, האימפריה העו...      3  50.000000\n",
       "4  הצהרת כורש,המהפכה ההלניסטית,המהפכה הסלבית,הגור...      4  66.666667\n",
       "5          מלחמת העולם השנייה, עליית הנאצים לשלטון,       3  50.000000"
      ]
     },
     "execution_count": 770,
     "metadata": {},
     "output_type": "execute_result"
    }
   ],
   "source": [
    "responses['His_S']=responses['His_N'] *100/max_topic\n",
    "responses.loc[~responses['History'].isna(),['History','His_N','His_S']].head(5)"
   ]
  },
  {
   "cell_type": "code",
   "execution_count": 771,
   "metadata": {},
   "outputs": [],
   "source": [
    "#Math"
   ]
  },
  {
   "cell_type": "code",
   "execution_count": 772,
   "metadata": {},
   "outputs": [],
   "source": [
    "responses['Math_3_S']=responses['Math_Level3'].apply(lambda x: 0 if pd.isnull(x) else (x * 100 ) / 5)\n",
    "responses['Math_4_5_S']=responses['Math_Level4_5'].apply(lambda x: 0 if pd.isnull(x) else (x * 100 ) / 5)"
   ]
  },
  {
   "cell_type": "code",
   "execution_count": 773,
   "metadata": {},
   "outputs": [
    {
     "data": {
      "text/html": [
       "<div>\n",
       "<style scoped>\n",
       "    .dataframe tbody tr th:only-of-type {\n",
       "        vertical-align: middle;\n",
       "    }\n",
       "\n",
       "    .dataframe tbody tr th {\n",
       "        vertical-align: top;\n",
       "    }\n",
       "\n",
       "    .dataframe thead th {\n",
       "        text-align: right;\n",
       "    }\n",
       "</style>\n",
       "<table border=\"1\" class=\"dataframe\">\n",
       "  <thead>\n",
       "    <tr style=\"text-align: right;\">\n",
       "      <th></th>\n",
       "      <th>Math_Level3</th>\n",
       "      <th>Math_3_S</th>\n",
       "      <th>Math_Level4_5</th>\n",
       "      <th>Math_4_5_S</th>\n",
       "      <th>Math_S</th>\n",
       "    </tr>\n",
       "  </thead>\n",
       "  <tbody>\n",
       "    <tr>\n",
       "      <th>0</th>\n",
       "      <td>4.0</td>\n",
       "      <td>80.0</td>\n",
       "      <td>NaN</td>\n",
       "      <td>0.0</td>\n",
       "      <td>80.0</td>\n",
       "    </tr>\n",
       "    <tr>\n",
       "      <th>1</th>\n",
       "      <td>NaN</td>\n",
       "      <td>0.0</td>\n",
       "      <td>4.0</td>\n",
       "      <td>80.0</td>\n",
       "      <td>80.0</td>\n",
       "    </tr>\n",
       "    <tr>\n",
       "      <th>2</th>\n",
       "      <td>5.0</td>\n",
       "      <td>100.0</td>\n",
       "      <td>NaN</td>\n",
       "      <td>0.0</td>\n",
       "      <td>100.0</td>\n",
       "    </tr>\n",
       "    <tr>\n",
       "      <th>3</th>\n",
       "      <td>5.0</td>\n",
       "      <td>100.0</td>\n",
       "      <td>NaN</td>\n",
       "      <td>0.0</td>\n",
       "      <td>100.0</td>\n",
       "    </tr>\n",
       "    <tr>\n",
       "      <th>4</th>\n",
       "      <td>NaN</td>\n",
       "      <td>0.0</td>\n",
       "      <td>4.0</td>\n",
       "      <td>80.0</td>\n",
       "      <td>80.0</td>\n",
       "    </tr>\n",
       "    <tr>\n",
       "      <th>...</th>\n",
       "      <td>...</td>\n",
       "      <td>...</td>\n",
       "      <td>...</td>\n",
       "      <td>...</td>\n",
       "      <td>...</td>\n",
       "    </tr>\n",
       "    <tr>\n",
       "      <th>79</th>\n",
       "      <td>NaN</td>\n",
       "      <td>0.0</td>\n",
       "      <td>1.0</td>\n",
       "      <td>20.0</td>\n",
       "      <td>20.0</td>\n",
       "    </tr>\n",
       "    <tr>\n",
       "      <th>80</th>\n",
       "      <td>4.0</td>\n",
       "      <td>80.0</td>\n",
       "      <td>NaN</td>\n",
       "      <td>0.0</td>\n",
       "      <td>80.0</td>\n",
       "    </tr>\n",
       "    <tr>\n",
       "      <th>81</th>\n",
       "      <td>NaN</td>\n",
       "      <td>0.0</td>\n",
       "      <td>3.0</td>\n",
       "      <td>60.0</td>\n",
       "      <td>60.0</td>\n",
       "    </tr>\n",
       "    <tr>\n",
       "      <th>82</th>\n",
       "      <td>2.0</td>\n",
       "      <td>40.0</td>\n",
       "      <td>NaN</td>\n",
       "      <td>0.0</td>\n",
       "      <td>40.0</td>\n",
       "    </tr>\n",
       "    <tr>\n",
       "      <th>83</th>\n",
       "      <td>NaN</td>\n",
       "      <td>0.0</td>\n",
       "      <td>5.0</td>\n",
       "      <td>100.0</td>\n",
       "      <td>100.0</td>\n",
       "    </tr>\n",
       "  </tbody>\n",
       "</table>\n",
       "<p>84 rows × 5 columns</p>\n",
       "</div>"
      ],
      "text/plain": [
       "    Math_Level3  Math_3_S  Math_Level4_5  Math_4_5_S  Math_S\n",
       "0           4.0      80.0            NaN         0.0    80.0\n",
       "1           NaN       0.0            4.0        80.0    80.0\n",
       "2           5.0     100.0            NaN         0.0   100.0\n",
       "3           5.0     100.0            NaN         0.0   100.0\n",
       "4           NaN       0.0            4.0        80.0    80.0\n",
       "..          ...       ...            ...         ...     ...\n",
       "79          NaN       0.0            1.0        20.0    20.0\n",
       "80          4.0      80.0            NaN         0.0    80.0\n",
       "81          NaN       0.0            3.0        60.0    60.0\n",
       "82          2.0      40.0            NaN         0.0    40.0\n",
       "83          NaN       0.0            5.0       100.0   100.0\n",
       "\n",
       "[84 rows x 5 columns]"
      ]
     },
     "execution_count": 773,
     "metadata": {},
     "output_type": "execute_result"
    }
   ],
   "source": [
    "responses['Math_S']=responses[[\"Math_3_S\", \"Math_4_5_S\"]].max(axis=1)\n",
    "responses[['Math_Level3','Math_3_S','Math_Level4_5','Math_4_5_S','Math_S']]"
   ]
  },
  {
   "cell_type": "markdown",
   "metadata": {},
   "source": [
    "### THE MQS   \n",
    "memory quality score"
   ]
  },
  {
   "cell_type": "code",
   "execution_count": 774,
   "metadata": {},
   "outputs": [],
   "source": [
    "A=responses['Civil_S']\n",
    "B1=responses['Lit_1_S']\n",
    "B2=responses['Lit_2_S']\n",
    "C=responses['His_S']\n",
    "D=responses['Math_S']"
   ]
  },
  {
   "cell_type": "code",
   "execution_count": 775,
   "metadata": {},
   "outputs": [
    {
     "data": {
      "text/plain": [
       "0     27.166667\n",
       "1     56.166667\n",
       "2     25.000000\n",
       "3     51.833333\n",
       "4     48.000000\n",
       "        ...    \n",
       "79    14.166667\n",
       "80    42.666667\n",
       "81    66.500000\n",
       "82    40.333333\n",
       "83    40.500000\n",
       "Name: MQS, Length: 84, dtype: float64"
      ]
     },
     "execution_count": 775,
     "metadata": {},
     "output_type": "execute_result"
    }
   ],
   "source": [
    "responses['MQS']=0.25*(A+C+D)+0.1*B1+0.15*B2\n",
    "responses['MQS']"
   ]
  },
  {
   "cell_type": "code",
   "execution_count": 776,
   "metadata": {},
   "outputs": [
    {
     "data": {
      "text/plain": [
       "43.04761904761905"
      ]
     },
     "execution_count": 776,
     "metadata": {},
     "output_type": "execute_result"
    }
   ],
   "source": [
    "responses['MQS'].mean()"
   ]
  },
  {
   "cell_type": "markdown",
   "metadata": {},
   "source": [
    "## Thats it\n",
    "## We now have the MQS Score for all participants"
   ]
  },
  {
   "cell_type": "code",
   "execution_count": 777,
   "metadata": {},
   "outputs": [
    {
     "data": {
      "text/html": [
       "<div>\n",
       "<style scoped>\n",
       "    .dataframe tbody tr th:only-of-type {\n",
       "        vertical-align: middle;\n",
       "    }\n",
       "\n",
       "    .dataframe tbody tr th {\n",
       "        vertical-align: top;\n",
       "    }\n",
       "\n",
       "    .dataframe thead th {\n",
       "        text-align: right;\n",
       "    }\n",
       "</style>\n",
       "<table border=\"1\" class=\"dataframe\">\n",
       "  <thead>\n",
       "    <tr style=\"text-align: right;\">\n",
       "      <th></th>\n",
       "      <th>count</th>\n",
       "      <th>mean</th>\n",
       "      <th>std</th>\n",
       "      <th>min</th>\n",
       "      <th>25%</th>\n",
       "      <th>50%</th>\n",
       "      <th>75%</th>\n",
       "      <th>max</th>\n",
       "    </tr>\n",
       "  </thead>\n",
       "  <tbody>\n",
       "    <tr>\n",
       "      <th>MQS</th>\n",
       "      <td>84.0</td>\n",
       "      <td>43.047619</td>\n",
       "      <td>16.053637</td>\n",
       "      <td>9.0</td>\n",
       "      <td>29.458333</td>\n",
       "      <td>43.416667</td>\n",
       "      <td>53.083333</td>\n",
       "      <td>94.0</td>\n",
       "    </tr>\n",
       "  </tbody>\n",
       "</table>\n",
       "</div>"
      ],
      "text/plain": [
       "     count       mean        std  min        25%        50%        75%   max\n",
       "MQS   84.0  43.047619  16.053637  9.0  29.458333  43.416667  53.083333  94.0"
      ]
     },
     "execution_count": 777,
     "metadata": {},
     "output_type": "execute_result"
    }
   ],
   "source": [
    "pd.DataFrame(responses['MQS'].describe()).T"
   ]
  },
  {
   "cell_type": "markdown",
   "metadata": {},
   "source": [
    "# 4. Data Exploring"
   ]
  },
  {
   "cell_type": "code",
   "execution_count": 778,
   "metadata": {},
   "outputs": [],
   "source": [
    "res=responses"
   ]
  },
  {
   "cell_type": "markdown",
   "metadata": {},
   "source": [
    "### Is there a relation between those we considers to have better accomplishments in math to their Math Score in the test ?"
   ]
  },
  {
   "cell_type": "code",
   "execution_count": 779,
   "metadata": {
    "scrolled": true
   },
   "outputs": [
    {
     "data": {
      "text/html": [
       "<div>\n",
       "<style scoped>\n",
       "    .dataframe tbody tr th:only-of-type {\n",
       "        vertical-align: middle;\n",
       "    }\n",
       "\n",
       "    .dataframe tbody tr th {\n",
       "        vertical-align: top;\n",
       "    }\n",
       "\n",
       "    .dataframe thead th {\n",
       "        text-align: right;\n",
       "    }\n",
       "</style>\n",
       "<table border=\"1\" class=\"dataframe\">\n",
       "  <thead>\n",
       "    <tr style=\"text-align: right;\">\n",
       "      <th></th>\n",
       "      <th>Math_Accomplish</th>\n",
       "      <th>Math_S</th>\n",
       "    </tr>\n",
       "  </thead>\n",
       "  <tbody>\n",
       "    <tr>\n",
       "      <th>21</th>\n",
       "      <td>5.0</td>\n",
       "      <td>60.0</td>\n",
       "    </tr>\n",
       "    <tr>\n",
       "      <th>20</th>\n",
       "      <td>5.0</td>\n",
       "      <td>100.0</td>\n",
       "    </tr>\n",
       "    <tr>\n",
       "      <th>62</th>\n",
       "      <td>5.0</td>\n",
       "      <td>20.0</td>\n",
       "    </tr>\n",
       "    <tr>\n",
       "      <th>72</th>\n",
       "      <td>5.0</td>\n",
       "      <td>40.0</td>\n",
       "    </tr>\n",
       "    <tr>\n",
       "      <th>78</th>\n",
       "      <td>3.0</td>\n",
       "      <td>100.0</td>\n",
       "    </tr>\n",
       "  </tbody>\n",
       "</table>\n",
       "</div>"
      ],
      "text/plain": [
       "    Math_Accomplish  Math_S\n",
       "21              5.0    60.0\n",
       "20              5.0   100.0\n",
       "62              5.0    20.0\n",
       "72              5.0    40.0\n",
       "78              3.0   100.0"
      ]
     },
     "execution_count": 779,
     "metadata": {},
     "output_type": "execute_result"
    }
   ],
   "source": [
    "res[['Math_Accomplish','Math_S']].sample(5)"
   ]
  },
  {
   "cell_type": "code",
   "execution_count": 780,
   "metadata": {},
   "outputs": [
    {
     "data": {
      "text/html": [
       "<div>\n",
       "<style scoped>\n",
       "    .dataframe tbody tr th:only-of-type {\n",
       "        vertical-align: middle;\n",
       "    }\n",
       "\n",
       "    .dataframe tbody tr th {\n",
       "        vertical-align: top;\n",
       "    }\n",
       "\n",
       "    .dataframe thead th {\n",
       "        text-align: right;\n",
       "    }\n",
       "</style>\n",
       "<table border=\"1\" class=\"dataframe\">\n",
       "  <thead>\n",
       "    <tr style=\"text-align: right;\">\n",
       "      <th></th>\n",
       "      <th>Math_Accomplish</th>\n",
       "      <th>Math_S</th>\n",
       "    </tr>\n",
       "  </thead>\n",
       "  <tbody>\n",
       "    <tr>\n",
       "      <th>Math_Accomplish</th>\n",
       "      <td>1.000000</td>\n",
       "      <td>0.024559</td>\n",
       "    </tr>\n",
       "    <tr>\n",
       "      <th>Math_S</th>\n",
       "      <td>0.024559</td>\n",
       "      <td>1.000000</td>\n",
       "    </tr>\n",
       "  </tbody>\n",
       "</table>\n",
       "</div>"
      ],
      "text/plain": [
       "                 Math_Accomplish    Math_S\n",
       "Math_Accomplish         1.000000  0.024559\n",
       "Math_S                  0.024559  1.000000"
      ]
     },
     "execution_count": 780,
     "metadata": {},
     "output_type": "execute_result"
    }
   ],
   "source": [
    "res[['Math_Accomplish','Math_S']].corr()"
   ]
  },
  {
   "cell_type": "code",
   "execution_count": 781,
   "metadata": {},
   "outputs": [
    {
     "data": {
      "text/plain": [
       "<matplotlib.axes._subplots.AxesSubplot at 0x263b7140580>"
      ]
     },
     "execution_count": 781,
     "metadata": {},
     "output_type": "execute_result"
    },
    {
     "data": {
      "image/png": "[encoded data removed]",
      "text/plain": [
       "<Figure size 432x288 with 2 Axes>"
      ]
     },
     "metadata": {
      "needs_background": "light"
     },
     "output_type": "display_data"
    }
   ],
   "source": [
    "sns.heatmap(res[['Math_Accomplish','Math_S']].corr(),cmap='coolwarm',annot=True)"
   ]
  },
  {
   "cell_type": "markdown",
   "metadata": {},
   "source": [
    "### answer: no, there isn't a clear connection"
   ]
  },
  {
   "cell_type": "markdown",
   "metadata": {},
   "source": [
    "---\n",
    "### Who did better?  Who has better memory quality score ? \n",
    "### Academic students or new high school graduated ?"
   ]
  },
  {
   "cell_type": "code",
   "execution_count": 782,
   "metadata": {},
   "outputs": [
    {
     "data": {
      "text/plain": [
       "71    Not Academic\n",
       "29    Not Academic\n",
       "18        Academic\n",
       "Name: Is_Academic, dtype: object"
      ]
     },
     "execution_count": 782,
     "metadata": {},
     "output_type": "execute_result"
    }
   ],
   "source": [
    "res['Is_Academic']=res['Is_Academic'].apply(lambda x : 'Not Academic' if pd.isnull(x) else 'Academic')\n",
    "res['Is_Academic'].sample(3)"
   ]
  },
  {
   "cell_type": "code",
   "execution_count": 794,
   "metadata": {},
   "outputs": [
    {
     "data": {
      "text/plain": [
       "<matplotlib.axes._subplots.AxesSubplot at 0x263b7737a90>"
      ]
     },
     "execution_count": 794,
     "metadata": {},
     "output_type": "execute_result"
    },
    {
     "data": {
      "image/png": "[encoded data removed]",
      "text/plain": [
       "<Figure size 360x360 with 1 Axes>"
      ]
     },
     "metadata": {
      "needs_background": "light"
     },
     "output_type": "display_data"
    }
   ],
   "source": [
    "fig = plt.figure(figsize=(5,5))\n",
    "sns.boxplot(x=\"Is_Academic\", y=\"MQS\", data=res,palette='rainbow')\n",
    "sns.swarmplot(x=\"Is_Academic\", y=\"MQS\", data=res,color='black',size=3)"
   ]
  },
  {
   "cell_type": "markdown",
   "metadata": {},
   "source": [
    "### answer: it is pretty close, but it seems like the mean for the academic students group is a little bit higher\n",
    "### and with less variance"
   ]
  },
  {
   "cell_type": "markdown",
   "metadata": {},
   "source": [
    "---\n",
    "\n",
    "### Considering the time that passed since the last test, what can we infer?"
   ]
  },
  {
   "cell_type": "code",
   "execution_count": 798,
   "metadata": {},
   "outputs": [
    {
     "data": {
      "text/plain": [
       "<pandas.core.groupby.generic.DataFrameGroupBy object at 0x00000263B7798370>"
      ]
     },
     "execution_count": 798,
     "metadata": {},
     "output_type": "execute_result"
    }
   ],
   "source": [
    "res.groupby(by='Last_Test')"
   ]
  },
  {
   "cell_type": "code",
   "execution_count": 828,
   "metadata": {},
   "outputs": [
    {
     "data": {
      "text/html": [
       "<div>\n",
       "<style scoped>\n",
       "    .dataframe tbody tr th:only-of-type {\n",
       "        vertical-align: middle;\n",
       "    }\n",
       "\n",
       "    .dataframe tbody tr th {\n",
       "        vertical-align: top;\n",
       "    }\n",
       "\n",
       "    .dataframe thead th {\n",
       "        text-align: right;\n",
       "    }\n",
       "</style>\n",
       "<table border=\"1\" class=\"dataframe\">\n",
       "  <thead>\n",
       "    <tr style=\"text-align: right;\">\n",
       "      <th></th>\n",
       "      <th>Civil_S</th>\n",
       "      <th>Lit_1_S</th>\n",
       "      <th>Lit_2_S</th>\n",
       "      <th>His_S</th>\n",
       "      <th>Math_S</th>\n",
       "      <th>MQS</th>\n",
       "    </tr>\n",
       "    <tr>\n",
       "      <th>Last_Test</th>\n",
       "      <th></th>\n",
       "      <th></th>\n",
       "      <th></th>\n",
       "      <th></th>\n",
       "      <th></th>\n",
       "      <th></th>\n",
       "    </tr>\n",
       "  </thead>\n",
       "  <tbody>\n",
       "    <tr>\n",
       "      <th>3 month - 1 year</th>\n",
       "      <td>21.428571</td>\n",
       "      <td>40.000000</td>\n",
       "      <td>17.142857</td>\n",
       "      <td>35.714286</td>\n",
       "      <td>77.142857</td>\n",
       "      <td>40.142857</td>\n",
       "    </tr>\n",
       "    <tr>\n",
       "      <th>1-3</th>\n",
       "      <td>37.356322</td>\n",
       "      <td>51.379310</td>\n",
       "      <td>38.965517</td>\n",
       "      <td>33.333333</td>\n",
       "      <td>54.482759</td>\n",
       "      <td>42.275862</td>\n",
       "    </tr>\n",
       "    <tr>\n",
       "      <th>3-5</th>\n",
       "      <td>51.666667</td>\n",
       "      <td>45.000000</td>\n",
       "      <td>42.000000</td>\n",
       "      <td>38.333333</td>\n",
       "      <td>78.000000</td>\n",
       "      <td>52.800000</td>\n",
       "    </tr>\n",
       "    <tr>\n",
       "      <th>5-10</th>\n",
       "      <td>33.333333</td>\n",
       "      <td>32.894737</td>\n",
       "      <td>19.473684</td>\n",
       "      <td>37.719298</td>\n",
       "      <td>70.526316</td>\n",
       "      <td>41.605263</td>\n",
       "    </tr>\n",
       "  </tbody>\n",
       "</table>\n",
       "</div>"
      ],
      "text/plain": [
       "                    Civil_S    Lit_1_S    Lit_2_S      His_S     Math_S  \\\n",
       "Last_Test                                                                 \n",
       "3 month - 1 year  21.428571  40.000000  17.142857  35.714286  77.142857   \n",
       "1-3               37.356322  51.379310  38.965517  33.333333  54.482759   \n",
       "3-5               51.666667  45.000000  42.000000  38.333333  78.000000   \n",
       "5-10              33.333333  32.894737  19.473684  37.719298  70.526316   \n",
       "\n",
       "                        MQS  \n",
       "Last_Test                    \n",
       "3 month - 1 year  40.142857  \n",
       "1-3               42.275862  \n",
       "3-5               52.800000  \n",
       "5-10              41.605263  "
      ]
     },
     "execution_count": 828,
     "metadata": {},
     "output_type": "execute_result"
    }
   ],
   "source": [
    "by_last_test=res.groupby(by='Last_Test').mean()[['Civil_S','Lit_1_S','Lit_2_S','His_S','Math_S','MQS']]\n",
    "by_last_test=by_last_test.loc[['3 month - 1 year','1-3','3-5','5-10']]\n",
    "by_last_test"
   ]
  },
  {
   "cell_type": "code",
   "execution_count": 839,
   "metadata": {},
   "outputs": [
    {
     "data": {
      "text/plain": [
       "<matplotlib.axes._subplots.AxesSubplot at 0x263c863ce80>"
      ]
     },
     "execution_count": 839,
     "metadata": {},
     "output_type": "execute_result"
    },
    {
     "data": {
      "image/png": "[encoded data removed]",
      "text/plain": [
       "<Figure size 720x360 with 2 Axes>"
      ]
     },
     "metadata": {
      "needs_background": "light"
     },
     "output_type": "display_data"
    }
   ],
   "source": [
    "fig = plt.figure(figsize=(10,5))\n",
    "sns.heatmap(by_last_test,cmap='bwr',linecolor='black',linewidths=1,annot=True)"
   ]
  },
  {
   "cell_type": "markdown",
   "metadata": {},
   "source": [
    "    from 3 month to 1 year : higher chance to have a good MQS in Math_Score, but the lowest Memory Quality Score\n",
    "    \n",
    "    from 1 year to 3 years : a better chance remembering also the non-mathematical topics, but decrease in the mathematical topics.\n",
    "    \n",
    "    from 3 years to 5 years : a significant improvement in the chance of rememering non-mathematical topics. and also the highest Math_Score and Memory Quality Score\n",
    "    \n",
    "    from 5 years to 10 years : a minor decrease in all measurements. "
   ]
  },
  {
   "cell_type": "code",
   "execution_count": 850,
   "metadata": {},
   "outputs": [
    {
     "data": {
      "text/plain": [
       "Index(['Age_Range', 'All Tests', 'Last_Test', 'Is_Academic', 'Intensity',\n",
       "       'English_Accomplish', 'Hebrew_Accomplish', 'Math_Accomplish', 'Civil',\n",
       "       'Lit_1', 'Lit_2', 'History', 'Math_Level', 'Math_Level3',\n",
       "       'Math_Level4_5', 'Civil_S', 'Lit_1_S', 'Lit_2_S', 'His_N', 'His_S',\n",
       "       'Math_3_S', 'Math_4_5_S', 'Math_S', 'MQS'],\n",
       "      dtype='object')"
      ]
     },
     "execution_count": 850,
     "metadata": {},
     "output_type": "execute_result"
    }
   ],
   "source": [
    "res.columns"
   ]
  },
  {
   "cell_type": "code",
   "execution_count": 869,
   "metadata": {},
   "outputs": [
    {
     "data": {
      "text/html": [
       "<div>\n",
       "<style scoped>\n",
       "    .dataframe tbody tr th:only-of-type {\n",
       "        vertical-align: middle;\n",
       "    }\n",
       "\n",
       "    .dataframe tbody tr th {\n",
       "        vertical-align: top;\n",
       "    }\n",
       "\n",
       "    .dataframe thead th {\n",
       "        text-align: right;\n",
       "    }\n",
       "</style>\n",
       "<table border=\"1\" class=\"dataframe\">\n",
       "  <thead>\n",
       "    <tr style=\"text-align: right;\">\n",
       "      <th></th>\n",
       "      <th>Intensity</th>\n",
       "      <th>English_Accomplish</th>\n",
       "      <th>Hebrew_Accomplish</th>\n",
       "      <th>Math_Accomplish</th>\n",
       "      <th>Civil</th>\n",
       "      <th>Lit_1</th>\n",
       "      <th>Lit_2</th>\n",
       "      <th>Math_Level</th>\n",
       "      <th>Math_Level3</th>\n",
       "      <th>Math_Level4_5</th>\n",
       "      <th>Civil_S</th>\n",
       "      <th>Lit_1_S</th>\n",
       "      <th>Lit_2_S</th>\n",
       "      <th>His_N</th>\n",
       "      <th>His_S</th>\n",
       "      <th>Math_3_S</th>\n",
       "      <th>Math_4_5_S</th>\n",
       "      <th>Math_S</th>\n",
       "      <th>MQS</th>\n",
       "    </tr>\n",
       "  </thead>\n",
       "  <tbody>\n",
       "    <tr>\n",
       "      <th>Civil</th>\n",
       "      <td>NaN</td>\n",
       "      <td>NaN</td>\n",
       "      <td>0.334406</td>\n",
       "      <td>NaN</td>\n",
       "      <td>1.0</td>\n",
       "      <td>NaN</td>\n",
       "      <td>NaN</td>\n",
       "      <td>0.310108</td>\n",
       "      <td>NaN</td>\n",
       "      <td>NaN</td>\n",
       "      <td>1.0</td>\n",
       "      <td>NaN</td>\n",
       "      <td>NaN</td>\n",
       "      <td>NaN</td>\n",
       "      <td>NaN</td>\n",
       "      <td>NaN</td>\n",
       "      <td>NaN</td>\n",
       "      <td>NaN</td>\n",
       "      <td>0.680248</td>\n",
       "    </tr>\n",
       "  </tbody>\n",
       "</table>\n",
       "</div>"
      ],
      "text/plain": [
       "       Intensity  English_Accomplish  Hebrew_Accomplish  Math_Accomplish  \\\n",
       "Civil        NaN                 NaN           0.334406              NaN   \n",
       "\n",
       "       Civil  Lit_1  Lit_2  Math_Level  Math_Level3  Math_Level4_5  Civil_S  \\\n",
       "Civil    1.0    NaN    NaN    0.310108          NaN            NaN      1.0   \n",
       "\n",
       "       Lit_1_S  Lit_2_S  His_N  His_S  Math_3_S  Math_4_5_S  Math_S       MQS  \n",
       "Civil      NaN      NaN    NaN    NaN       NaN         NaN     NaN  0.680248  "
      ]
     },
     "execution_count": 869,
     "metadata": {},
     "output_type": "execute_result"
    }
   ],
   "source": [
    "civil_corr=pd.DataFrame(res.corr()['Civil']).T\n",
    "civil_corr[civil_corr>=0.3]"
   ]
  },
  {
   "cell_type": "code",
   "execution_count": 872,
   "metadata": {},
   "outputs": [
    {
     "data": {
      "text/html": [
       "<div>\n",
       "<style scoped>\n",
       "    .dataframe tbody tr th:only-of-type {\n",
       "        vertical-align: middle;\n",
       "    }\n",
       "\n",
       "    .dataframe tbody tr th {\n",
       "        vertical-align: top;\n",
       "    }\n",
       "\n",
       "    .dataframe thead th {\n",
       "        text-align: right;\n",
       "    }\n",
       "</style>\n",
       "<table border=\"1\" class=\"dataframe\">\n",
       "  <thead>\n",
       "    <tr style=\"text-align: right;\">\n",
       "      <th></th>\n",
       "      <th>Hebrew_Accomplish</th>\n",
       "      <th>Math_Level</th>\n",
       "      <th>MQS</th>\n",
       "    </tr>\n",
       "  </thead>\n",
       "  <tbody>\n",
       "    <tr>\n",
       "      <th>Civil</th>\n",
       "      <td>0.334406</td>\n",
       "      <td>0.310108</td>\n",
       "      <td>0.680248</td>\n",
       "    </tr>\n",
       "  </tbody>\n",
       "</table>\n",
       "</div>"
      ],
      "text/plain": [
       "       Hebrew_Accomplish  Math_Level       MQS\n",
       "Civil           0.334406    0.310108  0.680248"
      ]
     },
     "execution_count": 872,
     "metadata": {},
     "output_type": "execute_result"
    }
   ],
   "source": [
    "civil_corr[['Hebrew_Accomplish','Math_Level','MQS']]"
   ]
  },
  {
   "cell_type": "code",
   "execution_count": 875,
   "metadata": {},
   "outputs": [
    {
     "data": {
      "text/plain": [
       "<matplotlib.axes._subplots.AxesSubplot at 0x263cb98fd60>"
      ]
     },
     "execution_count": 875,
     "metadata": {},
     "output_type": "execute_result"
    },
    {
     "data": {
      "image/png": "[encoded data removed]",
      "text/plain": [
       "<Figure size 432x288 with 1 Axes>"
      ]
     },
     "metadata": {
      "needs_background": "light"
     },
     "output_type": "display_data"
    }
   ],
   "source": [
    "sns.distplot(res['Civil'],bins=8)\n"
   ]
  },
  {
   "cell_type": "code",
   "execution_count": 883,
   "metadata": {},
   "outputs": [
    {
     "data": {
      "text/plain": [
       "(5.0, 70.0)"
      ]
     },
     "execution_count": 883,
     "metadata": {},
     "output_type": "execute_result"
    },
    {
     "data": {
      "image/png": "[encoded data removed]",
      "text/plain": [
       "<Figure size 432x432 with 3 Axes>"
      ]
     },
     "metadata": {
      "needs_background": "light"
     },
     "output_type": "display_data"
    }
   ],
   "source": [
    "g=sns.jointplot(x='Civil',y='MQS',data=res,kind='reg')\n",
    "plt.xlim(0, 7)\n",
    "plt.ylim(5, 70)"
   ]
  },
  {
   "cell_type": "code",
   "execution_count": 886,
   "metadata": {},
   "outputs": [
    {
     "data": {
      "text/plain": [
       "<seaborn.axisgrid.PairGrid at 0x263cd879a30>"
      ]
     },
     "execution_count": 886,
     "metadata": {},
     "output_type": "execute_result"
    },
    {
     "data": {
      "image/png": "[encoded data removed]",
      "text/plain": [
       "<Figure size 825.375x720 with 20 Axes>"
      ]
     },
     "metadata": {
      "needs_background": "light"
     },
     "output_type": "display_data"
    }
   ],
   "source": [
    "sns.pairplot(res[['Civil','Hebrew_Accomplish','Math_Level','MQS','Is_Academic']],hue='Is_Academic',palette='rainbow')"
   ]
  },
  {
   "cell_type": "markdown",
   "metadata": {},
   "source": [
    "### we can see that there is a relation between the ability to remember topics in Civil studies and between  MQS Score,\n",
    "\n",
    "### also those who has shown good memory in civil, also had the potential to have good sense of accomplishment in hebrew and to be in a better group in Math (4 units or 5 units instead of 3)"
   ]
  },
  {
   "cell_type": "markdown",
   "metadata": {},
   "source": [
    "# 5. Statistical Inference"
   ]
  },
  {
   "cell_type": "markdown",
   "metadata": {},
   "source": [
    "---\n",
    "We have this question we need to answer:\n",
    "### Is there a difference in the Memory Quality Score (MQS) \n",
    "### between new high school graduates and academic students (ages 23-28)   ????\n",
    " ---\n",
    " \n",
    " Let's do it !\n"
   ]
  },
  {
   "cell_type": "code",
   "execution_count": 889,
   "metadata": {},
   "outputs": [],
   "source": [
    "#Academic students Group\n",
    "A=responses.loc[(responses['Age_Range']=='23-28'),['MQS']]\n",
    "\n",
    "#New High School Graduates Group\n",
    "Y=responses.loc[(responses['Age_Range']=='18-20'),['MQS']]"
   ]
  },
  {
   "cell_type": "code",
   "execution_count": 890,
   "metadata": {},
   "outputs": [
    {
     "data": {
      "text/html": [
       "<div>\n",
       "<style scoped>\n",
       "    .dataframe tbody tr th:only-of-type {\n",
       "        vertical-align: middle;\n",
       "    }\n",
       "\n",
       "    .dataframe tbody tr th {\n",
       "        vertical-align: top;\n",
       "    }\n",
       "\n",
       "    .dataframe thead th {\n",
       "        text-align: right;\n",
       "    }\n",
       "</style>\n",
       "<table border=\"1\" class=\"dataframe\">\n",
       "  <thead>\n",
       "    <tr style=\"text-align: right;\">\n",
       "      <th></th>\n",
       "      <th>count</th>\n",
       "      <th>mean</th>\n",
       "      <th>std</th>\n",
       "      <th>min</th>\n",
       "      <th>25%</th>\n",
       "      <th>50%</th>\n",
       "      <th>75%</th>\n",
       "      <th>max</th>\n",
       "    </tr>\n",
       "  </thead>\n",
       "  <tbody>\n",
       "    <tr>\n",
       "      <th>MQS</th>\n",
       "      <td>41.0</td>\n",
       "      <td>43.239837</td>\n",
       "      <td>16.445324</td>\n",
       "      <td>14.333333</td>\n",
       "      <td>27.833333</td>\n",
       "      <td>45.333333</td>\n",
       "      <td>53.0</td>\n",
       "      <td>94.0</td>\n",
       "    </tr>\n",
       "  </tbody>\n",
       "</table>\n",
       "</div>"
      ],
      "text/plain": [
       "     count       mean        std        min        25%        50%   75%   max\n",
       "MQS   41.0  43.239837  16.445324  14.333333  27.833333  45.333333  53.0  94.0"
      ]
     },
     "execution_count": 890,
     "metadata": {},
     "output_type": "execute_result"
    }
   ],
   "source": [
    "pd.DataFrame(A.describe()).T"
   ]
  },
  {
   "cell_type": "code",
   "execution_count": 891,
   "metadata": {},
   "outputs": [
    {
     "data": {
      "text/html": [
       "<div>\n",
       "<style scoped>\n",
       "    .dataframe tbody tr th:only-of-type {\n",
       "        vertical-align: middle;\n",
       "    }\n",
       "\n",
       "    .dataframe tbody tr th {\n",
       "        vertical-align: top;\n",
       "    }\n",
       "\n",
       "    .dataframe thead th {\n",
       "        text-align: right;\n",
       "    }\n",
       "</style>\n",
       "<table border=\"1\" class=\"dataframe\">\n",
       "  <thead>\n",
       "    <tr style=\"text-align: right;\">\n",
       "      <th></th>\n",
       "      <th>count</th>\n",
       "      <th>mean</th>\n",
       "      <th>std</th>\n",
       "      <th>min</th>\n",
       "      <th>25%</th>\n",
       "      <th>50%</th>\n",
       "      <th>75%</th>\n",
       "      <th>max</th>\n",
       "    </tr>\n",
       "  </thead>\n",
       "  <tbody>\n",
       "    <tr>\n",
       "      <th>MQS</th>\n",
       "      <td>43.0</td>\n",
       "      <td>42.864341</td>\n",
       "      <td>15.863849</td>\n",
       "      <td>9.0</td>\n",
       "      <td>30.916667</td>\n",
       "      <td>41.666667</td>\n",
       "      <td>54.166667</td>\n",
       "      <td>73.666667</td>\n",
       "    </tr>\n",
       "  </tbody>\n",
       "</table>\n",
       "</div>"
      ],
      "text/plain": [
       "     count       mean        std  min        25%        50%        75%  \\\n",
       "MQS   43.0  42.864341  15.863849  9.0  30.916667  41.666667  54.166667   \n",
       "\n",
       "           max  \n",
       "MQS  73.666667  "
      ]
     },
     "execution_count": 891,
     "metadata": {},
     "output_type": "execute_result"
    }
   ],
   "source": [
    "pd.DataFrame(Y.describe()).T"
   ]
  },
  {
   "cell_type": "markdown",
   "metadata": {},
   "source": [
    "### We can see that the values are close\n",
    "    Sample_Size(A)=41             Sample_Size(Y)=43\n",
    "    Mean(A) = 43.24               Mean(Y) = 42.86\n",
    "    STD(A) = 16.44                  STD(Y) = 15.86\n",
    "\n",
    "### Perhaps, just maybe, the quality of memory could be the same after all ?\n",
    "---\n",
    "   "
   ]
  },
  {
   "cell_type": "markdown",
   "metadata": {},
   "source": [
    "## Let's define the hypothesis:\n",
    "\n",
    "#### H0: mu(A) == mu(Y)\n",
    "#### H1: mu(A) != mu(Y)\n",
    "#### assuming equal variance\n",
    "#### two tailed, two sampled, unequal variance  T TEST\n",
    "#### Alpha= 0.05"
   ]
  },
  {
   "cell_type": "code",
   "execution_count": 892,
   "metadata": {},
   "outputs": [],
   "source": [
    "import scipy.stats as stats\n",
    "from scipy.stats import t\n",
    "from scipy.stats import ttest_ind"
   ]
  },
  {
   "cell_type": "code",
   "execution_count": 893,
   "metadata": {},
   "outputs": [
    {
     "data": {
      "text/plain": [
       "<scipy.stats._continuous_distns.t_gen at 0x263a8bc3c40>"
      ]
     },
     "execution_count": 893,
     "metadata": {},
     "output_type": "execute_result"
    }
   ],
   "source": [
    "t"
   ]
  },
  {
   "cell_type": "code",
   "execution_count": 894,
   "metadata": {},
   "outputs": [
    {
     "data": {
      "text/plain": [
       "<function scipy.stats.stats.ttest_ind(a, b, axis=0, equal_var=True, nan_policy='propagate')>"
      ]
     },
     "execution_count": 894,
     "metadata": {},
     "output_type": "execute_result"
    }
   ],
   "source": [
    "ttest_ind"
   ]
  },
  {
   "cell_type": "code",
   "execution_count": 895,
   "metadata": {},
   "outputs": [],
   "source": [
    "def independent_ttest(data1, data2, alpha):\n",
    "    # calculate means\n",
    "    mean1, mean2 = data1.mean(),data2.mean()\n",
    "    # calculate standard errors\n",
    "    se1, se2 = data1.sem(), data2.sem()\n",
    "    # standard error on the difference between the samples\n",
    "    sed = np.sqrt(se1**2.0 + se2**2.0)\n",
    "    # calculate the t statistic\n",
    "    t_stat = (mean1 - mean2) / sed\n",
    "    # degrees of freedom\n",
    "    df = len(data1) + len(data2) - 2\n",
    "    # calculate the critical value\n",
    "    cv = t.ppf(1.0 - alpha, df)\n",
    "    # calculate the p-value\n",
    "    p = (1.0 - t.cdf(abs(t_stat), df)) * 2.0\n",
    "    # return everything\n",
    "    return t_stat, df, cv, p[0]"
   ]
  },
  {
   "cell_type": "code",
   "execution_count": 896,
   "metadata": {},
   "outputs": [],
   "source": [
    "Alpha=0.05"
   ]
  },
  {
   "cell_type": "code",
   "execution_count": 897,
   "metadata": {},
   "outputs": [],
   "source": [
    "[t_stat, df, critical_value, p_value]=independent_ttest(A,Y,Alpha)"
   ]
  },
  {
   "cell_type": "code",
   "execution_count": 898,
   "metadata": {},
   "outputs": [
    {
     "name": "stdout",
     "output_type": "stream",
     "text": [
      "We cannot reject H0, therefore the MQS is probably the same for those twho populations\n"
     ]
    }
   ],
   "source": [
    "if p_value<=Alpha:\n",
    "    print(\"We Reject H0, The MQS of those two populations are probably different \")\n",
    "else:\n",
    "    print(\"We cannot reject H0, therefore the MQS is probably the same for those twho populations\")"
   ]
  },
  {
   "cell_type": "code",
   "execution_count": 899,
   "metadata": {},
   "outputs": [],
   "source": [
    "## check"
   ]
  },
  {
   "cell_type": "code",
   "execution_count": 900,
   "metadata": {},
   "outputs": [
    {
     "data": {
      "text/plain": [
       "array([17.93225897, 35.42037415, 39.58288441, 26.35833816, 23.39986305,\n",
       "       60.91466865, 26.70242039, 78.97132328, 23.96897092, 22.17856674,\n",
       "       31.82951413,  1.97392458, 56.95335256, 22.04292187, 60.58589587,\n",
       "       46.66651627, 22.41538502, 42.35142648, 46.631632  , 59.71630002,\n",
       "       76.31190669, 68.67396853, 34.49846931, 40.27714086, 70.15865065,\n",
       "       33.07682215, 74.71493813, 51.35328361, 74.3239929 , 51.394542  ,\n",
       "       36.63658844, 39.86679517, 48.5789053 , 26.84117314, 41.16678981,\n",
       "       22.82376502, 45.06939416, 36.16466287, 70.24522393, 38.11357055,\n",
       "       43.70619205])"
      ]
     },
     "execution_count": 900,
     "metadata": {},
     "output_type": "execute_result"
    }
   ],
   "source": [
    "A_dist=t.rvs(len(A['MQS'])-1, loc=A['MQS'].mean(), scale=A['MQS'].std(), size=len(A['MQS']))\n",
    "A_dist"
   ]
  },
  {
   "cell_type": "code",
   "execution_count": 901,
   "metadata": {},
   "outputs": [
    {
     "data": {
      "text/plain": [
       "array([32.12345007, 37.01556959, 42.64526288, 33.72042386, 40.91029773,\n",
       "       72.08030675, 30.22110211, 46.48068923, 35.89353508, 34.75072945,\n",
       "       45.07433155, 12.77681278, 50.59500756, 42.33600531, 62.33651606,\n",
       "       51.86058641, 53.44303611, 49.42510423, 33.52166654, 49.70937559,\n",
       "       39.89060327, 33.71523145, 58.71027238,  5.43764573, 82.85944217,\n",
       "       70.19117749, 42.77881573, 56.9682516 , 50.21276412, 46.92763994,\n",
       "       59.35247579, 57.83498836, 26.08629891, 32.21639439, 46.54863628,\n",
       "       36.95181208, 16.50556361, 40.78194732, 39.18295735,  7.22647254,\n",
       "       26.78450894, 53.00086127, 46.86599648])"
      ]
     },
     "execution_count": 901,
     "metadata": {},
     "output_type": "execute_result"
    }
   ],
   "source": [
    "Y_dist=t.rvs(len(Y['MQS'])-1, loc=Y['MQS'].mean(), scale=Y['MQS'].std(), size=len(Y['MQS']))\n",
    "Y_dist"
   ]
  },
  {
   "cell_type": "code",
   "execution_count": 902,
   "metadata": {},
   "outputs": [
    {
     "data": {
      "text/plain": [
       "<scipy.stats._distn_infrastructure.rv_frozen at 0x263ce3170a0>"
      ]
     },
     "execution_count": 902,
     "metadata": {},
     "output_type": "execute_result"
    }
   ],
   "source": [
    "rv = t(df=len(Y['MQS'])-1, loc=Y['MQS'].mean(), scale=Y['MQS'].std())\n",
    "rv"
   ]
  },
  {
   "cell_type": "code",
   "execution_count": 903,
   "metadata": {},
   "outputs": [
    {
     "data": {
      "text/plain": [
       "<matplotlib.legend.Legend at 0x263b3f25730>"
      ]
     },
     "execution_count": 903,
     "metadata": {},
     "output_type": "execute_result"
    },
    {
     "data": {
      "image/png": "[encoded data removed]",
      "text/plain": [
       "<Figure size 720x288 with 1 Axes>"
      ]
     },
     "metadata": {
      "needs_background": "light"
     },
     "output_type": "display_data"
    }
   ],
   "source": [
    "\n",
    "\n",
    "\n",
    "rv_A = t(df=len(A['MQS'])-1, loc=A['MQS'].mean(), scale=A['MQS'].std())\n",
    "a = np.linspace(rv_A.ppf(0.0001), rv_A.ppf(0.9999), 100)\n",
    "b = rv_A.pdf(a) \n",
    "\n",
    "\n",
    "rv_Y = t(df=len(Y['MQS'])-1, loc=Y['MQS'].mean(), scale=Y['MQS'].std())\n",
    "x = np.linspace(rv_Y.ppf(0.0001), rv_Y.ppf(0.9999), 100)\n",
    "y = rv_Y.pdf(x) \n",
    "\n",
    "fig, ax = plt.subplots(figsize=(10,4))\n",
    "ax.plot(x,y,label='Y')\n",
    "ax.plot(a,b,label='A')\n",
    "\n",
    "plt.legend()"
   ]
  },
  {
   "cell_type": "markdown",
   "metadata": {},
   "source": [
    "# it is clear that the means of those two groups are very close.\n",
    "# inferring that the Expeted values for their MQS is also the same."
   ]
  }
 ],
 "metadata": {
  "kernelspec": {
   "display_name": "Python 3",
   "language": "python",
   "name": "python3"
  },
  "language_info": {
   "codemirror_mode": {
    "name": "ipython",
    "version": 3
   },
   "file_extension": ".py",
   "mimetype": "text/x-python",
   "name": "python",
   "nbconvert_exporter": "python",
   "pygments_lexer": "ipython3",
   "version": "3.8.0"
  }
 },
 "nbformat": 4,
 "nbformat_minor": 4
}
