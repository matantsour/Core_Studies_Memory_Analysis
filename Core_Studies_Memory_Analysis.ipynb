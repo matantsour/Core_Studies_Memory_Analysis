{
 "cells": [
  {
   "cell_type": "markdown",
   "metadata": {},
   "source": [
    "# 1. Acquiring the data:"
   ]
  },
  {
   "cell_type": "code",
   "execution_count": 492,
   "metadata": {},
   "outputs": [
    {
     "data": {
      "text/html": [
       "        <script type=\"text/javascript\">\n",
       "        window.PlotlyConfig = {MathJaxConfig: 'local'};\n",
       "        if (window.MathJax) {MathJax.Hub.Config({SVG: {font: \"STIX-Web\"}});}\n",
       "        if (typeof require !== 'undefined') {\n",
       "        require.undef(\"plotly\");\n",
       "        requirejs.config({\n",
       "            paths: {\n",
       "                'plotly': ['https://cdn.plot.ly/plotly-latest.min']\n",
       "            }\n",
       "        });\n",
       "        require(['plotly'], function(Plotly) {\n",
       "            window._Plotly = Plotly;\n",
       "        });\n",
       "        }\n",
       "        </script>\n",
       "        "
      ]
     },
     "metadata": {},
     "output_type": "display_data"
    }
   ],
   "source": [
    "import numpy as np\n",
    "import pandas as pd\n",
    "import matplotlib \n",
    "from matplotlib import pyplot as plt\n",
    "import seaborn as sns\n",
    "import cufflinks as cf\n",
    "from plotly.offline import download_plotlyjs, init_notebook_mode, plot, iplot\n",
    "\n",
    "%matplotlib inline\n",
    "cf.go_offline()\n",
    "\n",
    "def enable_plotly_in_cell():\n",
    "  import IPython\n",
    "  from plotly.offline import init_notebook_mode\n",
    "  display(IPython.core.display.HTML('''<script src=\"/static/components/requirejs/require.js\"></script>'''))\n",
    "  init_notebook_mode(connected=False)"
   ]
  },
  {
   "cell_type": "code",
   "execution_count": 324,
   "metadata": {},
   "outputs": [],
   "source": [
    "responses=pd.read_excel(\"responses.xlsx\")"
   ]
  },
  {
   "cell_type": "markdown",
   "metadata": {},
   "source": [
    "*Age_Range* --> string : the range of participant's age \n",
    "\n",
    "*All Tests* --> string : did the participant complete his matriculation tests\n",
    "\n",
    "*Last_Test* --> string : A range of time describing when was the last test \n",
    "\n",
    "*Is_Academic* --> string : is the participant an academic student now or has ever was. \n",
    "\n",
    "*Intensity* --> float : an answer describing how much does the participant consider his efforts during the exam's period in HS*\n",
    "\n",
    "*English_Accomplish* --> float : on a scale from 1-5, how did the participant consider his accomplishments in English in HS\n",
    "\n",
    "*Hebrew_Accomplish* --> float : on a scale from 1-5, how did the participant consider his accomplishments in Hebrew in HS\n",
    "\n",
    "*Math_Accomplish* --> float : on a scale from 1-5, how did the participant consider his accomplishments in Math in Hs\n",
    "\n",
    "*Civil* --> float : the amount of democratic principals the participant remembered. \n",
    "\n",
    "*Lit_1* --> float :  the amount of litteriture pieces the participant remembered. \n",
    "\n",
    "*Lit_2* --> float :  the amount of the main conflicts from those litteriture pieces that the participant remembered.  \n",
    "\n",
    "*History* --> string : the subjects/ topic that the participant remembers that were taught. described as a list.\n",
    "\n",
    "*Math_Level* --> float : the Math level of the participant in HS \n",
    "\n",
    "*Math_Level3* --> float : If the participant's Math level was 3:  the sense of capability  in solving this Math question.\n",
    "\n",
    "*Math_Level4_5* --> float : If the participant's Math level was 4 or 5 :  the sense of capability  in solving this Math question. \n",
    "\n",
    "*HS= High School\n"
   ]
  },
  {
   "cell_type": "code",
   "execution_count": 325,
   "metadata": {},
   "outputs": [
    {
     "data": {
      "text/html": [
       "<div>\n",
       "<style scoped>\n",
       "    .dataframe tbody tr th:only-of-type {\n",
       "        vertical-align: middle;\n",
       "    }\n",
       "\n",
       "    .dataframe tbody tr th {\n",
       "        vertical-align: top;\n",
       "    }\n",
       "\n",
       "    .dataframe thead th {\n",
       "        text-align: right;\n",
       "    }\n",
       "</style>\n",
       "<table border=\"1\" class=\"dataframe\">\n",
       "  <thead>\n",
       "    <tr style=\"text-align: right;\">\n",
       "      <th></th>\n",
       "      <th>Age_Range</th>\n",
       "      <th>All Tests</th>\n",
       "      <th>Last_Test</th>\n",
       "      <th>Is_Academic</th>\n",
       "      <th>Intensity</th>\n",
       "      <th>English_Accomplish</th>\n",
       "      <th>Hebrew_Accomplish</th>\n",
       "      <th>Math_Accomplish</th>\n",
       "      <th>Civil</th>\n",
       "      <th>Lit_1</th>\n",
       "      <th>Lit_2</th>\n",
       "      <th>History</th>\n",
       "      <th>Math_Level</th>\n",
       "      <th>Math_Level3</th>\n",
       "      <th>Math_Level4_5</th>\n",
       "    </tr>\n",
       "  </thead>\n",
       "  <tbody>\n",
       "    <tr>\n",
       "      <th>0</th>\n",
       "      <td>23-28</td>\n",
       "      <td>Yes</td>\n",
       "      <td>5-10</td>\n",
       "      <td>yes</td>\n",
       "      <td>10.0</td>\n",
       "      <td>4.0</td>\n",
       "      <td>3.0</td>\n",
       "      <td>4.0</td>\n",
       "      <td>0.0</td>\n",
       "      <td>3.0</td>\n",
       "      <td>0.0</td>\n",
       "      <td>השואה</td>\n",
       "      <td>3.0</td>\n",
       "      <td>4.0</td>\n",
       "      <td>NaN</td>\n",
       "    </tr>\n",
       "    <tr>\n",
       "      <th>1</th>\n",
       "      <td>23-28</td>\n",
       "      <td>Yes</td>\n",
       "      <td>5-10</td>\n",
       "      <td>yes</td>\n",
       "      <td>8.0</td>\n",
       "      <td>5.0</td>\n",
       "      <td>4.0</td>\n",
       "      <td>4.0</td>\n",
       "      <td>3.0</td>\n",
       "      <td>4.0</td>\n",
       "      <td>2.0</td>\n",
       "      <td>מלחמת העולם השניה, הקמת המדינה, עליות למדינה, ...</td>\n",
       "      <td>4.0</td>\n",
       "      <td>NaN</td>\n",
       "      <td>4.0</td>\n",
       "    </tr>\n",
       "    <tr>\n",
       "      <th>2</th>\n",
       "      <td>20-23</td>\n",
       "      <td>NaN</td>\n",
       "      <td>NaN</td>\n",
       "      <td>NaN</td>\n",
       "      <td>NaN</td>\n",
       "      <td>NaN</td>\n",
       "      <td>NaN</td>\n",
       "      <td>NaN</td>\n",
       "      <td>NaN</td>\n",
       "      <td>NaN</td>\n",
       "      <td>NaN</td>\n",
       "      <td>NaN</td>\n",
       "      <td>NaN</td>\n",
       "      <td>NaN</td>\n",
       "      <td>NaN</td>\n",
       "    </tr>\n",
       "    <tr>\n",
       "      <th>3</th>\n",
       "      <td>23-28</td>\n",
       "      <td>Yes</td>\n",
       "      <td>5-10</td>\n",
       "      <td>yes</td>\n",
       "      <td>10.0</td>\n",
       "      <td>4.0</td>\n",
       "      <td>3.0</td>\n",
       "      <td>3.0</td>\n",
       "      <td>0.0</td>\n",
       "      <td>0.0</td>\n",
       "      <td>0.0</td>\n",
       "      <td>NaN</td>\n",
       "      <td>3.0</td>\n",
       "      <td>5.0</td>\n",
       "      <td>NaN</td>\n",
       "    </tr>\n",
       "    <tr>\n",
       "      <th>4</th>\n",
       "      <td>23-28</td>\n",
       "      <td>Yes</td>\n",
       "      <td>5-10</td>\n",
       "      <td>yes</td>\n",
       "      <td>6.0</td>\n",
       "      <td>5.0</td>\n",
       "      <td>3.0</td>\n",
       "      <td>3.0</td>\n",
       "      <td>2.0</td>\n",
       "      <td>3.0</td>\n",
       "      <td>2.0</td>\n",
       "      <td>גרמניה הנאצית, מלחמת העולם השניה, האימפריה העו...</td>\n",
       "      <td>3.0</td>\n",
       "      <td>5.0</td>\n",
       "      <td>NaN</td>\n",
       "    </tr>\n",
       "    <tr>\n",
       "      <th>...</th>\n",
       "      <td>...</td>\n",
       "      <td>...</td>\n",
       "      <td>...</td>\n",
       "      <td>...</td>\n",
       "      <td>...</td>\n",
       "      <td>...</td>\n",
       "      <td>...</td>\n",
       "      <td>...</td>\n",
       "      <td>...</td>\n",
       "      <td>...</td>\n",
       "      <td>...</td>\n",
       "      <td>...</td>\n",
       "      <td>...</td>\n",
       "      <td>...</td>\n",
       "      <td>...</td>\n",
       "    </tr>\n",
       "    <tr>\n",
       "      <th>94</th>\n",
       "      <td>18-20</td>\n",
       "      <td>Yes</td>\n",
       "      <td>1-3</td>\n",
       "      <td>NaN</td>\n",
       "      <td>7.0</td>\n",
       "      <td>5.0</td>\n",
       "      <td>3.0</td>\n",
       "      <td>4.0</td>\n",
       "      <td>1.0</td>\n",
       "      <td>2.0</td>\n",
       "      <td>2.0</td>\n",
       "      <td>NaN</td>\n",
       "      <td>5.0</td>\n",
       "      <td>NaN</td>\n",
       "      <td>1.0</td>\n",
       "    </tr>\n",
       "    <tr>\n",
       "      <th>95</th>\n",
       "      <td>18-20</td>\n",
       "      <td>Yes</td>\n",
       "      <td>5-10</td>\n",
       "      <td>yes</td>\n",
       "      <td>7.0</td>\n",
       "      <td>4.0</td>\n",
       "      <td>3.0</td>\n",
       "      <td>2.0</td>\n",
       "      <td>1.0</td>\n",
       "      <td>3.0</td>\n",
       "      <td>2.0</td>\n",
       "      <td>יהדות בגדד, מלחמת העולם השנייה, מלחמת העולם הר...</td>\n",
       "      <td>3.0</td>\n",
       "      <td>4.0</td>\n",
       "      <td>NaN</td>\n",
       "    </tr>\n",
       "    <tr>\n",
       "      <th>96</th>\n",
       "      <td>18-20</td>\n",
       "      <td>Yes</td>\n",
       "      <td>1-3</td>\n",
       "      <td>NaN</td>\n",
       "      <td>7.0</td>\n",
       "      <td>3.0</td>\n",
       "      <td>5.0</td>\n",
       "      <td>4.0</td>\n",
       "      <td>5.0</td>\n",
       "      <td>8.0</td>\n",
       "      <td>4.0</td>\n",
       "      <td>לאום,לאומיות,דמוקרטיה,</td>\n",
       "      <td>5.0</td>\n",
       "      <td>NaN</td>\n",
       "      <td>3.0</td>\n",
       "    </tr>\n",
       "    <tr>\n",
       "      <th>97</th>\n",
       "      <td>18-20</td>\n",
       "      <td>Yes</td>\n",
       "      <td>1-3</td>\n",
       "      <td>NaN</td>\n",
       "      <td>10.0</td>\n",
       "      <td>5.0</td>\n",
       "      <td>2.0</td>\n",
       "      <td>3.0</td>\n",
       "      <td>2.0</td>\n",
       "      <td>10.0</td>\n",
       "      <td>8.0</td>\n",
       "      <td>NaN</td>\n",
       "      <td>3.0</td>\n",
       "      <td>2.0</td>\n",
       "      <td>NaN</td>\n",
       "    </tr>\n",
       "    <tr>\n",
       "      <th>98</th>\n",
       "      <td>18-20</td>\n",
       "      <td>Yes</td>\n",
       "      <td>3 month - 1 year</td>\n",
       "      <td>NaN</td>\n",
       "      <td>5.0</td>\n",
       "      <td>5.0</td>\n",
       "      <td>3.0</td>\n",
       "      <td>5.0</td>\n",
       "      <td>0.0</td>\n",
       "      <td>3.0</td>\n",
       "      <td>0.0</td>\n",
       "      <td>תנועת המרי העברי, מלחמת העצמאות, מלחמת העולם ה2</td>\n",
       "      <td>4.0</td>\n",
       "      <td>NaN</td>\n",
       "      <td>5.0</td>\n",
       "    </tr>\n",
       "  </tbody>\n",
       "</table>\n",
       "<p>99 rows × 15 columns</p>\n",
       "</div>"
      ],
      "text/plain": [
       "   Age_Range All Tests         Last_Test Is_Academic  Intensity  \\\n",
       "0      23-28       Yes              5-10         yes       10.0   \n",
       "1      23-28       Yes              5-10         yes        8.0   \n",
       "2      20-23       NaN               NaN         NaN        NaN   \n",
       "3      23-28       Yes              5-10         yes       10.0   \n",
       "4      23-28       Yes              5-10         yes        6.0   \n",
       "..       ...       ...               ...         ...        ...   \n",
       "94     18-20       Yes               1-3         NaN        7.0   \n",
       "95     18-20       Yes              5-10         yes        7.0   \n",
       "96     18-20       Yes               1-3         NaN        7.0   \n",
       "97     18-20       Yes               1-3         NaN       10.0   \n",
       "98     18-20       Yes  3 month - 1 year         NaN        5.0   \n",
       "\n",
       "    English_Accomplish  Hebrew_Accomplish  Math_Accomplish  Civil  Lit_1  \\\n",
       "0                  4.0                3.0              4.0    0.0    3.0   \n",
       "1                  5.0                4.0              4.0    3.0    4.0   \n",
       "2                  NaN                NaN              NaN    NaN    NaN   \n",
       "3                  4.0                3.0              3.0    0.0    0.0   \n",
       "4                  5.0                3.0              3.0    2.0    3.0   \n",
       "..                 ...                ...              ...    ...    ...   \n",
       "94                 5.0                3.0              4.0    1.0    2.0   \n",
       "95                 4.0                3.0              2.0    1.0    3.0   \n",
       "96                 3.0                5.0              4.0    5.0    8.0   \n",
       "97                 5.0                2.0              3.0    2.0   10.0   \n",
       "98                 5.0                3.0              5.0    0.0    3.0   \n",
       "\n",
       "    Lit_2                                            History  Math_Level  \\\n",
       "0     0.0                                              השואה         3.0   \n",
       "1     2.0  מלחמת העולם השניה, הקמת המדינה, עליות למדינה, ...         4.0   \n",
       "2     NaN                                                NaN         NaN   \n",
       "3     0.0                                                NaN         3.0   \n",
       "4     2.0  גרמניה הנאצית, מלחמת העולם השניה, האימפריה העו...         3.0   \n",
       "..    ...                                                ...         ...   \n",
       "94    2.0                                                NaN         5.0   \n",
       "95    2.0  יהדות בגדד, מלחמת העולם השנייה, מלחמת העולם הר...         3.0   \n",
       "96    4.0                             לאום,לאומיות,דמוקרטיה,         5.0   \n",
       "97    8.0                                                NaN         3.0   \n",
       "98    0.0    תנועת המרי העברי, מלחמת העצמאות, מלחמת העולם ה2         4.0   \n",
       "\n",
       "    Math_Level3  Math_Level4_5  \n",
       "0           4.0            NaN  \n",
       "1           NaN            4.0  \n",
       "2           NaN            NaN  \n",
       "3           5.0            NaN  \n",
       "4           5.0            NaN  \n",
       "..          ...            ...  \n",
       "94          NaN            1.0  \n",
       "95          4.0            NaN  \n",
       "96          NaN            3.0  \n",
       "97          2.0            NaN  \n",
       "98          NaN            5.0  \n",
       "\n",
       "[99 rows x 15 columns]"
      ]
     },
     "execution_count": 325,
     "metadata": {},
     "output_type": "execute_result"
    }
   ],
   "source": [
    "responses"
   ]
  },
  {
   "cell_type": "code",
   "execution_count": 235,
   "metadata": {},
   "outputs": [
    {
     "name": "stdout",
     "output_type": "stream",
     "text": [
      "<class 'pandas.core.frame.DataFrame'>\n",
      "RangeIndex: 99 entries, 0 to 98\n",
      "Data columns (total 15 columns):\n",
      " #   Column              Non-Null Count  Dtype  \n",
      "---  ------              --------------  -----  \n",
      " 0   Age_Range           99 non-null     object \n",
      " 1   All Tests           84 non-null     object \n",
      " 2   Last_Test           84 non-null     object \n",
      " 3   Is_Academic         51 non-null     object \n",
      " 4   Intensity           84 non-null     float64\n",
      " 5   English_Accomplish  84 non-null     float64\n",
      " 6   Hebrew_Accomplish   84 non-null     float64\n",
      " 7   Math_Accomplish     84 non-null     float64\n",
      " 8   Civil               84 non-null     float64\n",
      " 9   Lit_1               83 non-null     float64\n",
      " 10  Lit_2               84 non-null     float64\n",
      " 11  History             58 non-null     object \n",
      " 12  Math_Level          84 non-null     float64\n",
      " 13  Math_Level3         22 non-null     float64\n",
      " 14  Math_Level4_5       62 non-null     float64\n",
      "dtypes: float64(10), object(5)\n",
      "memory usage: 11.7+ KB\n"
     ]
    }
   ],
   "source": [
    "responses.info()"
   ]
  },
  {
   "cell_type": "markdown",
   "metadata": {},
   "source": [
    "# 2. Cleaning the data:"
   ]
  },
  {
   "cell_type": "markdown",
   "metadata": {},
   "source": [
    "not all of the 99 responses are valid.\n",
    "we need to keep only responses from those participants whose ages are 18-20 or 23-28. "
   ]
  },
  {
   "cell_type": "code",
   "execution_count": 335,
   "metadata": {},
   "outputs": [
    {
     "data": {
      "text/plain": [
       "18-20    51\n",
       "23-28    41\n",
       "20-23     7\n",
       "Name: Age_Range, dtype: int64"
      ]
     },
     "execution_count": 335,
     "metadata": {},
     "output_type": "execute_result"
    }
   ],
   "source": [
    "responses['Age_Range'].value_counts()"
   ]
  },
  {
   "cell_type": "code",
   "execution_count": 336,
   "metadata": {},
   "outputs": [],
   "source": [
    "responses=responses.loc[(responses['Age_Range']=='18-20') | ((responses['Age_Range']=='23-28'))]"
   ]
  },
  {
   "cell_type": "markdown",
   "metadata": {},
   "source": [
    "Now, we need to filter those who didn't finish their examns. let's check responses['All Tests']"
   ]
  },
  {
   "cell_type": "code",
   "execution_count": 337,
   "metadata": {},
   "outputs": [
    {
     "data": {
      "text/plain": [
       "92"
      ]
     },
     "execution_count": 337,
     "metadata": {},
     "output_type": "execute_result"
    }
   ],
   "source": [
    "len(responses)"
   ]
  },
  {
   "cell_type": "markdown",
   "metadata": {},
   "source": [
    "so we have now 92 responses"
   ]
  },
  {
   "cell_type": "code",
   "execution_count": 338,
   "metadata": {},
   "outputs": [
    {
     "data": {
      "text/plain": [
       "Yes    84\n",
       "Name: All Tests, dtype: int64"
      ]
     },
     "execution_count": 338,
     "metadata": {},
     "output_type": "execute_result"
    }
   ],
   "source": [
    "responses['All Tests'].value_counts()"
   ]
  },
  {
   "cell_type": "markdown",
   "metadata": {},
   "source": [
    "but only 84 are valid"
   ]
  },
  {
   "cell_type": "code",
   "execution_count": 339,
   "metadata": {},
   "outputs": [
    {
     "data": {
      "text/plain": [
       "nan"
      ]
     },
     "execution_count": 339,
     "metadata": {},
     "output_type": "execute_result"
    }
   ],
   "source": [
    "responses.loc[67,'All Tests']"
   ]
  },
  {
   "cell_type": "markdown",
   "metadata": {},
   "source": [
    "we have nan values. "
   ]
  },
  {
   "cell_type": "code",
   "execution_count": 340,
   "metadata": {},
   "outputs": [
    {
     "data": {
      "text/plain": [
       "0     False\n",
       "1     False\n",
       "3     False\n",
       "4     False\n",
       "5     False\n",
       "      ...  \n",
       "94    False\n",
       "95    False\n",
       "96    False\n",
       "97    False\n",
       "98    False\n",
       "Name: All Tests, Length: 92, dtype: bool"
      ]
     },
     "execution_count": 340,
     "metadata": {},
     "output_type": "execute_result"
    }
   ],
   "source": [
    "responses['All Tests'].isna()"
   ]
  },
  {
   "cell_type": "code",
   "execution_count": 341,
   "metadata": {},
   "outputs": [],
   "source": [
    "responses.drop(list(responses[responses['All Tests'].isna()].index),axis=0,inplace=True)"
   ]
  },
  {
   "cell_type": "code",
   "execution_count": 342,
   "metadata": {},
   "outputs": [
    {
     "data": {
      "text/plain": [
       "84"
      ]
     },
     "execution_count": 342,
     "metadata": {},
     "output_type": "execute_result"
    }
   ],
   "source": [
    "len(responses)"
   ]
  },
  {
   "cell_type": "markdown",
   "metadata": {},
   "source": [
    "now we are down to 84 valid responses"
   ]
  },
  {
   "cell_type": "markdown",
   "metadata": {},
   "source": [
    "let's check that no one has done their last test in the last 3 month. "
   ]
  },
  {
   "cell_type": "code",
   "execution_count": 345,
   "metadata": {},
   "outputs": [
    {
     "data": {
      "text/plain": [
       "5-10                38\n",
       "1-3                 29\n",
       "3-5                 10\n",
       "3 month - 1 year     7\n",
       "Name: Last_Test, dtype: int64"
      ]
     },
     "execution_count": 345,
     "metadata": {},
     "output_type": "execute_result"
    }
   ],
   "source": [
    "responses['Last_Test'].value_counts()"
   ]
  },
  {
   "cell_type": "markdown",
   "metadata": {},
   "source": [
    "FINAL STEP, LET'S REORGANIZE THE INDEX"
   ]
  },
  {
   "cell_type": "code",
   "execution_count": 346,
   "metadata": {},
   "outputs": [],
   "source": [
    "responses.reset_index(drop=True,inplace=True)"
   ]
  },
  {
   "cell_type": "markdown",
   "metadata": {},
   "source": [
    "# 3. Determine the Individual Memory Quality Score"
   ]
  },
  {
   "cell_type": "markdown",
   "metadata": {},
   "source": [
    "Each participant was given an individual Memory Quality Score (MQS) based of his memory test answers.\n",
    "whereas X represents the score for each category, this is how the MQS was calculated\n",
    "Each category's score is 25% of the MQS\n",
    "\n",
    "    A. Civil Studies: x*100/6 (6 is the maximun score, so if x=6, this category's score is 100)\n",
    "\n",
    "    B.Litterature Studies:  B1) 10% for the first question\n",
    "                            B2)15% for the second one.\n",
    "    for each question the score is X*10. (so if the subject remembered 5 pieces of litterature  out of 10, the score will be 50.\n",
    "    \n",
    "    C. History Studies: X*100/6 ( 6 was the maximun answer given in this exam, so in fact the highest number of topics one was able to recollect out of 99 responders\n",
    "    \n",
    "    D. Math Studies: X*100/5 (if the answer was 5, than the score is 100 for this category)\n",
    "\n",
    "   ##### MQS= 0.25 * (A+C+D) + 0.1 * B1 + 0.15 * B2 "
   ]
  },
  {
   "cell_type": "markdown",
   "metadata": {},
   "source": [
    "--- \n",
    "##### *New Colums for SCORES based of the core studies categories :*\n",
    "    Civil  --> Civil_S  =  ( x * 100 ) / 6                 # 6 principles of Democracy\n",
    "\n",
    "    Lit_1  --> Lit_1_S  =  ( x * 100 ) / 10                # 10 pieces of litterature max : 10%\n",
    "\n",
    "    Lit_2  --> Lit_2_S  =  ( x * 100 ) / 10                # 10 pieces of litterature max : 15%\n",
    "\n",
    "    History  --> His_N  =   number of topics/ subjects from History studies\n",
    "    \n",
    "    History  --> His_S  =   ( x * 100 ) / max(His_N)           # 6 is the max subjects one could remember in this questionnaire\n",
    "\n",
    "    Math_Level3   --> Math_3_S  =   ( x * 100 ) / 5        # A scale from 1-5 (sense of capability in resolving example math question)\n",
    "\n",
    "    Math_Level4_5  --> Math_4_5_S  =  ( x * 100 ) / 5       # A scale from 1-5 (sense of capability in resolving example math question)\n",
    "\n",
    "    Math_Score  --> Math_S  =  MAX(Math_3_S,Math_4_5_S)     # One can only have score in 3 units or 4/5 \n",
    "    units"
   ]
  },
  {
   "cell_type": "code",
   "execution_count": 347,
   "metadata": {},
   "outputs": [],
   "source": [
    "new_cols=['Civil_S','Lit_1_S','Lit_2_S','His_N','His_S','Math_3_S','Math_4_5_S','Math_S']\n",
    "for c in new_cols: \n",
    "    responses[c]=0"
   ]
  },
  {
   "cell_type": "code",
   "execution_count": 348,
   "metadata": {},
   "outputs": [
    {
     "data": {
      "text/html": [
       "<div>\n",
       "<style scoped>\n",
       "    .dataframe tbody tr th:only-of-type {\n",
       "        vertical-align: middle;\n",
       "    }\n",
       "\n",
       "    .dataframe tbody tr th {\n",
       "        vertical-align: top;\n",
       "    }\n",
       "\n",
       "    .dataframe thead th {\n",
       "        text-align: right;\n",
       "    }\n",
       "</style>\n",
       "<table border=\"1\" class=\"dataframe\">\n",
       "  <thead>\n",
       "    <tr style=\"text-align: right;\">\n",
       "      <th></th>\n",
       "      <th>Civil</th>\n",
       "      <th>Civil_S</th>\n",
       "    </tr>\n",
       "  </thead>\n",
       "  <tbody>\n",
       "    <tr>\n",
       "      <th>81</th>\n",
       "      <td>5.0</td>\n",
       "      <td>83.333333</td>\n",
       "    </tr>\n",
       "    <tr>\n",
       "      <th>82</th>\n",
       "      <td>2.0</td>\n",
       "      <td>33.333333</td>\n",
       "    </tr>\n",
       "    <tr>\n",
       "      <th>83</th>\n",
       "      <td>0.0</td>\n",
       "      <td>0.000000</td>\n",
       "    </tr>\n",
       "  </tbody>\n",
       "</table>\n",
       "</div>"
      ],
      "text/plain": [
       "    Civil    Civil_S\n",
       "81    5.0  83.333333\n",
       "82    2.0  33.333333\n",
       "83    0.0   0.000000"
      ]
     },
     "execution_count": 348,
     "metadata": {},
     "output_type": "execute_result"
    }
   ],
   "source": [
    "#civil\n",
    "responses['Civil_S']=responses['Civil'] *100/6\n",
    "responses[['Civil','Civil_S']].tail(3)"
   ]
  },
  {
   "cell_type": "code",
   "execution_count": 372,
   "metadata": {},
   "outputs": [
    {
     "data": {
      "text/html": [
       "<div>\n",
       "<style scoped>\n",
       "    .dataframe tbody tr th:only-of-type {\n",
       "        vertical-align: middle;\n",
       "    }\n",
       "\n",
       "    .dataframe tbody tr th {\n",
       "        vertical-align: top;\n",
       "    }\n",
       "\n",
       "    .dataframe thead th {\n",
       "        text-align: right;\n",
       "    }\n",
       "</style>\n",
       "<table border=\"1\" class=\"dataframe\">\n",
       "  <thead>\n",
       "    <tr style=\"text-align: right;\">\n",
       "      <th></th>\n",
       "      <th>Lit_1</th>\n",
       "      <th>Lit_2</th>\n",
       "      <th>Lit_1_S</th>\n",
       "      <th>Lit_2_S</th>\n",
       "    </tr>\n",
       "  </thead>\n",
       "  <tbody>\n",
       "    <tr>\n",
       "      <th>81</th>\n",
       "      <td>8.0</td>\n",
       "      <td>4.0</td>\n",
       "      <td>80.0</td>\n",
       "      <td>40.0</td>\n",
       "    </tr>\n",
       "    <tr>\n",
       "      <th>82</th>\n",
       "      <td>10.0</td>\n",
       "      <td>8.0</td>\n",
       "      <td>100.0</td>\n",
       "      <td>80.0</td>\n",
       "    </tr>\n",
       "    <tr>\n",
       "      <th>83</th>\n",
       "      <td>3.0</td>\n",
       "      <td>0.0</td>\n",
       "      <td>30.0</td>\n",
       "      <td>0.0</td>\n",
       "    </tr>\n",
       "  </tbody>\n",
       "</table>\n",
       "</div>"
      ],
      "text/plain": [
       "    Lit_1  Lit_2  Lit_1_S  Lit_2_S\n",
       "81    8.0    4.0     80.0     40.0\n",
       "82   10.0    8.0    100.0     80.0\n",
       "83    3.0    0.0     30.0      0.0"
      ]
     },
     "execution_count": 372,
     "metadata": {},
     "output_type": "execute_result"
    }
   ],
   "source": [
    "#lit\n",
    "responses['Lit_1_S']=responses['Lit_1'].apply(lambda x: 0 if  pd.isnull(x) else x*10)\n",
    "responses['Lit_2_S']=responses['Lit_2'].apply(lambda x: 0 if  pd.isnull(x) else x*10)\n",
    "responses[['Lit_1','Lit_2','Lit_1_S','Lit_2_S']].tail(3)"
   ]
  },
  {
   "cell_type": "code",
   "execution_count": 389,
   "metadata": {},
   "outputs": [
    {
     "data": {
      "text/plain": [
       "0                                                 השואה\n",
       "1     מלחמת העולם השניה, הקמת המדינה, עליות למדינה, ...\n",
       "2                                                   NaN\n",
       "3     גרמניה הנאצית, מלחמת העולם השניה, האימפריה העו...\n",
       "4     הצהרת כורש,המהפכה ההלניסטית,המהפכה הסלבית,הגור...\n",
       "                            ...                        \n",
       "79                                                  NaN\n",
       "80    יהדות בגדד, מלחמת העולם השנייה, מלחמת העולם הר...\n",
       "81                               לאום,לאומיות,דמוקרטיה,\n",
       "82                                                  NaN\n",
       "83      תנועת המרי העברי, מלחמת העצמאות, מלחמת העולם ה2\n",
       "Name: History, Length: 84, dtype: object"
      ]
     },
     "execution_count": 389,
     "metadata": {},
     "output_type": "execute_result"
    }
   ],
   "source": [
    "#history\n",
    "responses['History']"
   ]
  },
  {
   "cell_type": "code",
   "execution_count": 390,
   "metadata": {},
   "outputs": [],
   "source": [
    "def how_much_topics(line):\n",
    "    if pd.isnull(line):\n",
    "        return 0\n",
    "    else:\n",
    "        return len(str(line).split(','))"
   ]
  },
  {
   "cell_type": "code",
   "execution_count": 391,
   "metadata": {},
   "outputs": [],
   "source": [
    "responses['His_N']=responses['History'].apply(lambda x:how_much_topics(x))"
   ]
  },
  {
   "cell_type": "code",
   "execution_count": 392,
   "metadata": {},
   "outputs": [
    {
     "data": {
      "text/html": [
       "<div>\n",
       "<style scoped>\n",
       "    .dataframe tbody tr th:only-of-type {\n",
       "        vertical-align: middle;\n",
       "    }\n",
       "\n",
       "    .dataframe tbody tr th {\n",
       "        vertical-align: top;\n",
       "    }\n",
       "\n",
       "    .dataframe thead th {\n",
       "        text-align: right;\n",
       "    }\n",
       "</style>\n",
       "<table border=\"1\" class=\"dataframe\">\n",
       "  <thead>\n",
       "    <tr style=\"text-align: right;\">\n",
       "      <th></th>\n",
       "      <th>History</th>\n",
       "      <th>His_N</th>\n",
       "    </tr>\n",
       "  </thead>\n",
       "  <tbody>\n",
       "    <tr>\n",
       "      <th>0</th>\n",
       "      <td>השואה</td>\n",
       "      <td>1</td>\n",
       "    </tr>\n",
       "    <tr>\n",
       "      <th>1</th>\n",
       "      <td>מלחמת העולם השניה, הקמת המדינה, עליות למדינה, ...</td>\n",
       "      <td>4</td>\n",
       "    </tr>\n",
       "    <tr>\n",
       "      <th>3</th>\n",
       "      <td>גרמניה הנאצית, מלחמת העולם השניה, האימפריה העו...</td>\n",
       "      <td>3</td>\n",
       "    </tr>\n",
       "    <tr>\n",
       "      <th>4</th>\n",
       "      <td>הצהרת כורש,המהפכה ההלניסטית,המהפכה הסלבית,הגור...</td>\n",
       "      <td>4</td>\n",
       "    </tr>\n",
       "    <tr>\n",
       "      <th>5</th>\n",
       "      <td>מלחמת העולם השנייה, עליית הנאצים לשלטון,</td>\n",
       "      <td>3</td>\n",
       "    </tr>\n",
       "  </tbody>\n",
       "</table>\n",
       "</div>"
      ],
      "text/plain": [
       "                                             History  His_N\n",
       "0                                              השואה      1\n",
       "1  מלחמת העולם השניה, הקמת המדינה, עליות למדינה, ...      4\n",
       "3  גרמניה הנאצית, מלחמת העולם השניה, האימפריה העו...      3\n",
       "4  הצהרת כורש,המהפכה ההלניסטית,המהפכה הסלבית,הגור...      4\n",
       "5          מלחמת העולם השנייה, עליית הנאצים לשלטון,       3"
      ]
     },
     "execution_count": 392,
     "metadata": {},
     "output_type": "execute_result"
    }
   ],
   "source": [
    "responses.loc[~responses['History'].isna(),['History','His_N']].head(5)"
   ]
  },
  {
   "cell_type": "code",
   "execution_count": 393,
   "metadata": {},
   "outputs": [
    {
     "data": {
      "text/plain": [
       "6"
      ]
     },
     "execution_count": 393,
     "metadata": {},
     "output_type": "execute_result"
    }
   ],
   "source": [
    "max_topic=responses['His_N'].max()\n",
    "max_topic"
   ]
  },
  {
   "cell_type": "code",
   "execution_count": 394,
   "metadata": {},
   "outputs": [
    {
     "data": {
      "text/html": [
       "<div>\n",
       "<style scoped>\n",
       "    .dataframe tbody tr th:only-of-type {\n",
       "        vertical-align: middle;\n",
       "    }\n",
       "\n",
       "    .dataframe tbody tr th {\n",
       "        vertical-align: top;\n",
       "    }\n",
       "\n",
       "    .dataframe thead th {\n",
       "        text-align: right;\n",
       "    }\n",
       "</style>\n",
       "<table border=\"1\" class=\"dataframe\">\n",
       "  <thead>\n",
       "    <tr style=\"text-align: right;\">\n",
       "      <th></th>\n",
       "      <th>History</th>\n",
       "      <th>His_N</th>\n",
       "      <th>His_S</th>\n",
       "    </tr>\n",
       "  </thead>\n",
       "  <tbody>\n",
       "    <tr>\n",
       "      <th>0</th>\n",
       "      <td>השואה</td>\n",
       "      <td>1</td>\n",
       "      <td>16.666667</td>\n",
       "    </tr>\n",
       "    <tr>\n",
       "      <th>1</th>\n",
       "      <td>מלחמת העולם השניה, הקמת המדינה, עליות למדינה, ...</td>\n",
       "      <td>4</td>\n",
       "      <td>66.666667</td>\n",
       "    </tr>\n",
       "    <tr>\n",
       "      <th>3</th>\n",
       "      <td>גרמניה הנאצית, מלחמת העולם השניה, האימפריה העו...</td>\n",
       "      <td>3</td>\n",
       "      <td>50.000000</td>\n",
       "    </tr>\n",
       "    <tr>\n",
       "      <th>4</th>\n",
       "      <td>הצהרת כורש,המהפכה ההלניסטית,המהפכה הסלבית,הגור...</td>\n",
       "      <td>4</td>\n",
       "      <td>66.666667</td>\n",
       "    </tr>\n",
       "    <tr>\n",
       "      <th>5</th>\n",
       "      <td>מלחמת העולם השנייה, עליית הנאצים לשלטון,</td>\n",
       "      <td>3</td>\n",
       "      <td>50.000000</td>\n",
       "    </tr>\n",
       "  </tbody>\n",
       "</table>\n",
       "</div>"
      ],
      "text/plain": [
       "                                             History  His_N      His_S\n",
       "0                                              השואה      1  16.666667\n",
       "1  מלחמת העולם השניה, הקמת המדינה, עליות למדינה, ...      4  66.666667\n",
       "3  גרמניה הנאצית, מלחמת העולם השניה, האימפריה העו...      3  50.000000\n",
       "4  הצהרת כורש,המהפכה ההלניסטית,המהפכה הסלבית,הגור...      4  66.666667\n",
       "5          מלחמת העולם השנייה, עליית הנאצים לשלטון,       3  50.000000"
      ]
     },
     "execution_count": 394,
     "metadata": {},
     "output_type": "execute_result"
    }
   ],
   "source": [
    "responses['His_S']=responses['His_N'] *100/max_topic\n",
    "responses.loc[~responses['History'].isna(),['History','His_N','His_S']].head(5)"
   ]
  },
  {
   "cell_type": "code",
   "execution_count": 395,
   "metadata": {},
   "outputs": [],
   "source": [
    "#Math"
   ]
  },
  {
   "cell_type": "code",
   "execution_count": 396,
   "metadata": {},
   "outputs": [],
   "source": [
    "responses['Math_3_S']=responses['Math_Level3'].apply(lambda x: 0 if pd.isnull(x) else (x * 100 ) / 5)\n",
    "responses['Math_4_5_S']=responses['Math_Level4_5'].apply(lambda x: 0 if pd.isnull(x) else (x * 100 ) / 5)"
   ]
  },
  {
   "cell_type": "code",
   "execution_count": 397,
   "metadata": {},
   "outputs": [
    {
     "data": {
      "text/html": [
       "<div>\n",
       "<style scoped>\n",
       "    .dataframe tbody tr th:only-of-type {\n",
       "        vertical-align: middle;\n",
       "    }\n",
       "\n",
       "    .dataframe tbody tr th {\n",
       "        vertical-align: top;\n",
       "    }\n",
       "\n",
       "    .dataframe thead th {\n",
       "        text-align: right;\n",
       "    }\n",
       "</style>\n",
       "<table border=\"1\" class=\"dataframe\">\n",
       "  <thead>\n",
       "    <tr style=\"text-align: right;\">\n",
       "      <th></th>\n",
       "      <th>Math_Level3</th>\n",
       "      <th>Math_3_S</th>\n",
       "      <th>Math_Level4_5</th>\n",
       "      <th>Math_4_5_S</th>\n",
       "      <th>Math_S</th>\n",
       "    </tr>\n",
       "  </thead>\n",
       "  <tbody>\n",
       "    <tr>\n",
       "      <th>0</th>\n",
       "      <td>4.0</td>\n",
       "      <td>80.0</td>\n",
       "      <td>NaN</td>\n",
       "      <td>0.0</td>\n",
       "      <td>80.0</td>\n",
       "    </tr>\n",
       "    <tr>\n",
       "      <th>1</th>\n",
       "      <td>NaN</td>\n",
       "      <td>0.0</td>\n",
       "      <td>4.0</td>\n",
       "      <td>80.0</td>\n",
       "      <td>80.0</td>\n",
       "    </tr>\n",
       "    <tr>\n",
       "      <th>2</th>\n",
       "      <td>5.0</td>\n",
       "      <td>100.0</td>\n",
       "      <td>NaN</td>\n",
       "      <td>0.0</td>\n",
       "      <td>100.0</td>\n",
       "    </tr>\n",
       "    <tr>\n",
       "      <th>3</th>\n",
       "      <td>5.0</td>\n",
       "      <td>100.0</td>\n",
       "      <td>NaN</td>\n",
       "      <td>0.0</td>\n",
       "      <td>100.0</td>\n",
       "    </tr>\n",
       "    <tr>\n",
       "      <th>4</th>\n",
       "      <td>NaN</td>\n",
       "      <td>0.0</td>\n",
       "      <td>4.0</td>\n",
       "      <td>80.0</td>\n",
       "      <td>80.0</td>\n",
       "    </tr>\n",
       "    <tr>\n",
       "      <th>...</th>\n",
       "      <td>...</td>\n",
       "      <td>...</td>\n",
       "      <td>...</td>\n",
       "      <td>...</td>\n",
       "      <td>...</td>\n",
       "    </tr>\n",
       "    <tr>\n",
       "      <th>79</th>\n",
       "      <td>NaN</td>\n",
       "      <td>0.0</td>\n",
       "      <td>1.0</td>\n",
       "      <td>20.0</td>\n",
       "      <td>20.0</td>\n",
       "    </tr>\n",
       "    <tr>\n",
       "      <th>80</th>\n",
       "      <td>4.0</td>\n",
       "      <td>80.0</td>\n",
       "      <td>NaN</td>\n",
       "      <td>0.0</td>\n",
       "      <td>80.0</td>\n",
       "    </tr>\n",
       "    <tr>\n",
       "      <th>81</th>\n",
       "      <td>NaN</td>\n",
       "      <td>0.0</td>\n",
       "      <td>3.0</td>\n",
       "      <td>60.0</td>\n",
       "      <td>60.0</td>\n",
       "    </tr>\n",
       "    <tr>\n",
       "      <th>82</th>\n",
       "      <td>2.0</td>\n",
       "      <td>40.0</td>\n",
       "      <td>NaN</td>\n",
       "      <td>0.0</td>\n",
       "      <td>40.0</td>\n",
       "    </tr>\n",
       "    <tr>\n",
       "      <th>83</th>\n",
       "      <td>NaN</td>\n",
       "      <td>0.0</td>\n",
       "      <td>5.0</td>\n",
       "      <td>100.0</td>\n",
       "      <td>100.0</td>\n",
       "    </tr>\n",
       "  </tbody>\n",
       "</table>\n",
       "<p>84 rows × 5 columns</p>\n",
       "</div>"
      ],
      "text/plain": [
       "    Math_Level3  Math_3_S  Math_Level4_5  Math_4_5_S  Math_S\n",
       "0           4.0      80.0            NaN         0.0    80.0\n",
       "1           NaN       0.0            4.0        80.0    80.0\n",
       "2           5.0     100.0            NaN         0.0   100.0\n",
       "3           5.0     100.0            NaN         0.0   100.0\n",
       "4           NaN       0.0            4.0        80.0    80.0\n",
       "..          ...       ...            ...         ...     ...\n",
       "79          NaN       0.0            1.0        20.0    20.0\n",
       "80          4.0      80.0            NaN         0.0    80.0\n",
       "81          NaN       0.0            3.0        60.0    60.0\n",
       "82          2.0      40.0            NaN         0.0    40.0\n",
       "83          NaN       0.0            5.0       100.0   100.0\n",
       "\n",
       "[84 rows x 5 columns]"
      ]
     },
     "execution_count": 397,
     "metadata": {},
     "output_type": "execute_result"
    }
   ],
   "source": [
    "responses['Math_S']=responses[[\"Math_3_S\", \"Math_4_5_S\"]].max(axis=1)\n",
    "responses[['Math_Level3','Math_3_S','Math_Level4_5','Math_4_5_S','Math_S']]"
   ]
  },
  {
   "cell_type": "markdown",
   "metadata": {},
   "source": [
    "### THE MQS   \n",
    "memory quality score"
   ]
  },
  {
   "cell_type": "code",
   "execution_count": 398,
   "metadata": {},
   "outputs": [],
   "source": [
    "A=responses['Civil_S']\n",
    "B1=responses['Lit_1_S']\n",
    "B2=responses['Lit_2_S']\n",
    "C=responses['His_S']\n",
    "D=responses['Math_S']"
   ]
  },
  {
   "cell_type": "code",
   "execution_count": 399,
   "metadata": {},
   "outputs": [
    {
     "data": {
      "text/plain": [
       "0     27.166667\n",
       "1     56.166667\n",
       "2     25.000000\n",
       "3     51.833333\n",
       "4     48.000000\n",
       "        ...    \n",
       "79    14.166667\n",
       "80    42.666667\n",
       "81    66.500000\n",
       "82    40.333333\n",
       "83    40.500000\n",
       "Name: MQS, Length: 84, dtype: float64"
      ]
     },
     "execution_count": 399,
     "metadata": {},
     "output_type": "execute_result"
    }
   ],
   "source": [
    "responses['MQS']=0.25*(A+C+D)+0.1*B1+0.15*B2\n",
    "responses['MQS']"
   ]
  },
  {
   "cell_type": "code",
   "execution_count": 400,
   "metadata": {},
   "outputs": [
    {
     "data": {
      "text/plain": [
       "43.04761904761905"
      ]
     },
     "execution_count": 400,
     "metadata": {},
     "output_type": "execute_result"
    }
   ],
   "source": [
    "responses['MQS'].mean()"
   ]
  },
  {
   "cell_type": "markdown",
   "metadata": {},
   "source": [
    "## Thats it\n",
    "## We now have the MQS Score for all participants"
   ]
  },
  {
   "cell_type": "code",
   "execution_count": 401,
   "metadata": {},
   "outputs": [
    {
     "data": {
      "text/html": [
       "<div>\n",
       "<style scoped>\n",
       "    .dataframe tbody tr th:only-of-type {\n",
       "        vertical-align: middle;\n",
       "    }\n",
       "\n",
       "    .dataframe tbody tr th {\n",
       "        vertical-align: top;\n",
       "    }\n",
       "\n",
       "    .dataframe thead th {\n",
       "        text-align: right;\n",
       "    }\n",
       "</style>\n",
       "<table border=\"1\" class=\"dataframe\">\n",
       "  <thead>\n",
       "    <tr style=\"text-align: right;\">\n",
       "      <th></th>\n",
       "      <th>count</th>\n",
       "      <th>mean</th>\n",
       "      <th>std</th>\n",
       "      <th>min</th>\n",
       "      <th>25%</th>\n",
       "      <th>50%</th>\n",
       "      <th>75%</th>\n",
       "      <th>max</th>\n",
       "    </tr>\n",
       "  </thead>\n",
       "  <tbody>\n",
       "    <tr>\n",
       "      <th>MQS</th>\n",
       "      <td>84.0</td>\n",
       "      <td>43.047619</td>\n",
       "      <td>16.053637</td>\n",
       "      <td>9.0</td>\n",
       "      <td>29.458333</td>\n",
       "      <td>43.416667</td>\n",
       "      <td>53.083333</td>\n",
       "      <td>94.0</td>\n",
       "    </tr>\n",
       "  </tbody>\n",
       "</table>\n",
       "</div>"
      ],
      "text/plain": [
       "     count       mean        std  min        25%        50%        75%   max\n",
       "MQS   84.0  43.047619  16.053637  9.0  29.458333  43.416667  53.083333  94.0"
      ]
     },
     "execution_count": 401,
     "metadata": {},
     "output_type": "execute_result"
    }
   ],
   "source": [
    "pd.DataFrame(responses['MQS'].describe()).T"
   ]
  },
  {
   "cell_type": "markdown",
   "metadata": {},
   "source": [
    "# 4. Data Exploring"
   ]
  },
  {
   "cell_type": "code",
   "execution_count": null,
   "metadata": {},
   "outputs": [],
   "source": []
  },
  {
   "cell_type": "code",
   "execution_count": null,
   "metadata": {},
   "outputs": [],
   "source": []
  },
  {
   "cell_type": "code",
   "execution_count": null,
   "metadata": {},
   "outputs": [],
   "source": []
  },
  {
   "cell_type": "code",
   "execution_count": null,
   "metadata": {},
   "outputs": [],
   "source": []
  },
  {
   "cell_type": "code",
   "execution_count": null,
   "metadata": {},
   "outputs": [],
   "source": []
  },
  {
   "cell_type": "code",
   "execution_count": null,
   "metadata": {},
   "outputs": [],
   "source": []
  },
  {
   "cell_type": "code",
   "execution_count": null,
   "metadata": {},
   "outputs": [],
   "source": []
  },
  {
   "cell_type": "markdown",
   "metadata": {},
   "source": [
    "# 5. Statistical Inference"
   ]
  },
  {
   "cell_type": "markdown",
   "metadata": {},
   "source": [
    "---\n",
    "We have this question we need to answer:\n",
    "### Is there a difference in the Memory Quality Score (MQS) \n",
    "### between new high school graduates and academic students (ages 23-28)   ????\n",
    " ---\n",
    " \n",
    " Let's do it !\n"
   ]
  },
  {
   "cell_type": "code",
   "execution_count": 405,
   "metadata": {},
   "outputs": [],
   "source": [
    "#Academic students Group\n",
    "A=responses.loc[(responses['Age_Range']=='23-28'),['MQS']]\n",
    "\n",
    "#New High School Graduates Group\n",
    "Y=responses.loc[(responses['Age_Range']=='18-20'),['MQS']]"
   ]
  },
  {
   "cell_type": "code",
   "execution_count": 408,
   "metadata": {},
   "outputs": [
    {
     "data": {
      "text/html": [
       "<div>\n",
       "<style scoped>\n",
       "    .dataframe tbody tr th:only-of-type {\n",
       "        vertical-align: middle;\n",
       "    }\n",
       "\n",
       "    .dataframe tbody tr th {\n",
       "        vertical-align: top;\n",
       "    }\n",
       "\n",
       "    .dataframe thead th {\n",
       "        text-align: right;\n",
       "    }\n",
       "</style>\n",
       "<table border=\"1\" class=\"dataframe\">\n",
       "  <thead>\n",
       "    <tr style=\"text-align: right;\">\n",
       "      <th></th>\n",
       "      <th>count</th>\n",
       "      <th>mean</th>\n",
       "      <th>std</th>\n",
       "      <th>min</th>\n",
       "      <th>25%</th>\n",
       "      <th>50%</th>\n",
       "      <th>75%</th>\n",
       "      <th>max</th>\n",
       "    </tr>\n",
       "  </thead>\n",
       "  <tbody>\n",
       "    <tr>\n",
       "      <th>MQS</th>\n",
       "      <td>41.0</td>\n",
       "      <td>43.239837</td>\n",
       "      <td>16.445324</td>\n",
       "      <td>14.333333</td>\n",
       "      <td>27.833333</td>\n",
       "      <td>45.333333</td>\n",
       "      <td>53.0</td>\n",
       "      <td>94.0</td>\n",
       "    </tr>\n",
       "  </tbody>\n",
       "</table>\n",
       "</div>"
      ],
      "text/plain": [
       "     count       mean        std        min        25%        50%   75%   max\n",
       "MQS   41.0  43.239837  16.445324  14.333333  27.833333  45.333333  53.0  94.0"
      ]
     },
     "execution_count": 408,
     "metadata": {},
     "output_type": "execute_result"
    }
   ],
   "source": [
    "pd.DataFrame(A.describe()).T"
   ]
  },
  {
   "cell_type": "code",
   "execution_count": 410,
   "metadata": {},
   "outputs": [
    {
     "data": {
      "text/html": [
       "<div>\n",
       "<style scoped>\n",
       "    .dataframe tbody tr th:only-of-type {\n",
       "        vertical-align: middle;\n",
       "    }\n",
       "\n",
       "    .dataframe tbody tr th {\n",
       "        vertical-align: top;\n",
       "    }\n",
       "\n",
       "    .dataframe thead th {\n",
       "        text-align: right;\n",
       "    }\n",
       "</style>\n",
       "<table border=\"1\" class=\"dataframe\">\n",
       "  <thead>\n",
       "    <tr style=\"text-align: right;\">\n",
       "      <th></th>\n",
       "      <th>count</th>\n",
       "      <th>mean</th>\n",
       "      <th>std</th>\n",
       "      <th>min</th>\n",
       "      <th>25%</th>\n",
       "      <th>50%</th>\n",
       "      <th>75%</th>\n",
       "      <th>max</th>\n",
       "    </tr>\n",
       "  </thead>\n",
       "  <tbody>\n",
       "    <tr>\n",
       "      <th>MQS</th>\n",
       "      <td>43.0</td>\n",
       "      <td>42.864341</td>\n",
       "      <td>15.863849</td>\n",
       "      <td>9.0</td>\n",
       "      <td>30.916667</td>\n",
       "      <td>41.666667</td>\n",
       "      <td>54.166667</td>\n",
       "      <td>73.666667</td>\n",
       "    </tr>\n",
       "  </tbody>\n",
       "</table>\n",
       "</div>"
      ],
      "text/plain": [
       "     count       mean        std  min        25%        50%        75%  \\\n",
       "MQS   43.0  42.864341  15.863849  9.0  30.916667  41.666667  54.166667   \n",
       "\n",
       "           max  \n",
       "MQS  73.666667  "
      ]
     },
     "execution_count": 410,
     "metadata": {},
     "output_type": "execute_result"
    }
   ],
   "source": [
    "pd.DataFrame(Y.describe()).T"
   ]
  },
  {
   "cell_type": "markdown",
   "metadata": {},
   "source": [
    "### We can see that the values are close\n",
    "    Sample_Size(A)=41             Sample_Size(Y)=43\n",
    "    Mean(A) = 43.24               Mean(Y) = 42.86\n",
    "    STD(A) = 16.44                  STD(Y) = 15.86\n",
    "\n",
    "### Perhaps, just maybe, the quality of memory could be the same after all ?\n",
    "---\n",
    "   "
   ]
  },
  {
   "cell_type": "markdown",
   "metadata": {},
   "source": [
    "## Let's define the hypothesis:\n",
    "\n",
    "#### H0: mu(A) == mu(Y)\n",
    "#### H1: mu(A) != mu(Y)\n",
    "#### assuming equal variance\n",
    "#### two tailed, two sampled, unequal variance  T TEST\n",
    "#### Alpha= 0.05"
   ]
  },
  {
   "cell_type": "code",
   "execution_count": 412,
   "metadata": {},
   "outputs": [],
   "source": [
    "import scipy.stats as stats\n",
    "from scipy.stats import t\n",
    "from scipy.stats import ttest_ind"
   ]
  },
  {
   "cell_type": "code",
   "execution_count": 413,
   "metadata": {},
   "outputs": [
    {
     "data": {
      "text/plain": [
       "<scipy.stats._continuous_distns.t_gen at 0x263a8bc3c40>"
      ]
     },
     "execution_count": 413,
     "metadata": {},
     "output_type": "execute_result"
    }
   ],
   "source": [
    "t"
   ]
  },
  {
   "cell_type": "code",
   "execution_count": 415,
   "metadata": {},
   "outputs": [
    {
     "data": {
      "text/plain": [
       "<function scipy.stats.stats.ttest_ind(a, b, axis=0, equal_var=True, nan_policy='propagate')>"
      ]
     },
     "execution_count": 415,
     "metadata": {},
     "output_type": "execute_result"
    }
   ],
   "source": [
    "ttest_ind"
   ]
  },
  {
   "cell_type": "code",
   "execution_count": 447,
   "metadata": {},
   "outputs": [],
   "source": [
    "def independent_ttest(data1, data2, alpha):\n",
    "    # calculate means\n",
    "    mean1, mean2 = data1.mean(),data2.mean()\n",
    "    # calculate standard errors\n",
    "    se1, se2 = data1.sem(), data2.sem()\n",
    "    # standard error on the difference between the samples\n",
    "    sed = np.sqrt(se1**2.0 + se2**2.0)\n",
    "    # calculate the t statistic\n",
    "    t_stat = (mean1 - mean2) / sed\n",
    "    # degrees of freedom\n",
    "    df = len(data1) + len(data2) - 2\n",
    "    # calculate the critical value\n",
    "    cv = t.ppf(1.0 - alpha, df)\n",
    "    # calculate the p-value\n",
    "    p = (1.0 - t.cdf(abs(t_stat), df)) * 2.0\n",
    "    # return everything\n",
    "    return t_stat, df, cv, p[0]"
   ]
  },
  {
   "cell_type": "code",
   "execution_count": 436,
   "metadata": {},
   "outputs": [],
   "source": [
    "Alpha=0.05"
   ]
  },
  {
   "cell_type": "code",
   "execution_count": 448,
   "metadata": {},
   "outputs": [],
   "source": [
    "[t_stat, df, critical_value, p_value]=independent_ttest(A,Y,Alpha)"
   ]
  },
  {
   "cell_type": "code",
   "execution_count": 451,
   "metadata": {},
   "outputs": [
    {
     "name": "stdout",
     "output_type": "stream",
     "text": [
      "We cannot reject H0, therefore the MQS is probably the same for those twho populations\n"
     ]
    }
   ],
   "source": [
    "if p_value<=Alpha:\n",
    "    print(\"We Reject H0, The MQS of those two populations are probably different \")\n",
    "else:\n",
    "    print(\"We cannot reject H0, therefore the MQS is probably the same for those twho populations\")"
   ]
  },
  {
   "cell_type": "code",
   "execution_count": 452,
   "metadata": {},
   "outputs": [],
   "source": [
    "## check"
   ]
  },
  {
   "cell_type": "code",
   "execution_count": 476,
   "metadata": {},
   "outputs": [
    {
     "data": {
      "text/plain": [
       "array([36.07727907,  4.96135233, 71.77231286, 25.42908719, 51.51078617,\n",
       "       26.63830813, 36.54628669, 18.01021401, 17.18252034, 47.79966373,\n",
       "       46.82721842, 52.07116036, 45.81609267, 50.26097166, 33.97053729,\n",
       "       52.39750078, 57.84188071, 40.9960107 , 57.6807806 , 52.19008211,\n",
       "       37.50758237, 37.86989273, 28.39715012, 75.15998834, 27.01392873,\n",
       "       44.80728058, 39.76243269, 39.28076157, 48.54084731, 31.59418505,\n",
       "       22.72808437, 60.66586751, 72.16344942, 39.16859641, 43.78556892,\n",
       "       40.55325732, 49.86027814, 51.25959081, 46.41972875, 36.89832147,\n",
       "       41.9695992 ])"
      ]
     },
     "execution_count": 476,
     "metadata": {},
     "output_type": "execute_result"
    }
   ],
   "source": [
    "A_dist=t.rvs(len(A['MQS'])-1, loc=A['MQS'].mean(), scale=A['MQS'].std(), size=len(A['MQS']))\n",
    "A_dist"
   ]
  },
  {
   "cell_type": "code",
   "execution_count": 482,
   "metadata": {},
   "outputs": [
    {
     "data": {
      "text/plain": [
       "array([63.54366011, 61.62946196, 64.41897482, 42.62948325, 37.67987333,\n",
       "       43.89098579, 50.49706955, 56.02138909, 33.54138863, 60.44266267,\n",
       "       53.8735286 , 50.17301059, 41.89299417, 52.5238313 , 45.17860313,\n",
       "       71.69422691, 16.61680566, 30.36897052, 35.53543951, 47.7341568 ,\n",
       "       36.32837131, 70.5891781 , 40.28392479, 49.37784906, 53.11148681,\n",
       "       56.28469147, 25.1953156 , 32.77930856, 28.62169342, 46.80279812,\n",
       "       80.78623346, 53.25849789, 24.49529246, 31.18858053, 72.61276738,\n",
       "       48.17746228, 49.73481758, 30.94695274, 34.24702025, 11.59763562,\n",
       "       65.98381331, 41.10814068,  9.53108437])"
      ]
     },
     "execution_count": 482,
     "metadata": {},
     "output_type": "execute_result"
    }
   ],
   "source": [
    "Y_dist=t.rvs(len(Y['MQS'])-1, loc=Y['MQS'].mean(), scale=Y['MQS'].std(), size=len(Y['MQS']))\n",
    "Y_dist"
   ]
  },
  {
   "cell_type": "code",
   "execution_count": 484,
   "metadata": {},
   "outputs": [
    {
     "data": {
      "text/plain": [
       "<scipy.stats._distn_infrastructure.rv_frozen at 0x263abed9910>"
      ]
     },
     "execution_count": 484,
     "metadata": {},
     "output_type": "execute_result"
    }
   ],
   "source": [
    "rv = t(df=len(Y['MQS'])-1, loc=Y['MQS'].mean(), scale=Y['MQS'].std())\n",
    "rv"
   ]
  },
  {
   "cell_type": "code",
   "execution_count": 624,
   "metadata": {},
   "outputs": [
    {
     "data": {
      "text/plain": [
       "<matplotlib.legend.Legend at 0x263b3f3b0a0>"
      ]
     },
     "execution_count": 624,
     "metadata": {},
     "output_type": "execute_result"
    },
    {
     "data": {
      "image/png": "[encoded data removed]",
      "text/plain": [
       "<Figure size 720x288 with 1 Axes>"
      ]
     },
     "metadata": {
      "needs_background": "light"
     },
     "output_type": "display_data"
    }
   ],
   "source": [
    "\n",
    "\n",
    "\n",
    "rv_A = t(df=len(A['MQS'])-1, loc=A['MQS'].mean(), scale=A['MQS'].std())\n",
    "a = np.linspace(rv_A.ppf(0.0001), rv_A.ppf(0.9999), 100)\n",
    "b = rv_A.pdf(a) \n",
    "\n",
    "\n",
    "rv_Y = t(df=len(Y['MQS'])-1, loc=Y['MQS'].mean(), scale=Y['MQS'].std())\n",
    "x = np.linspace(rv_Y.ppf(0.0001), rv_Y.ppf(0.9999), 100)\n",
    "y = rv_Y.pdf(x) \n",
    "\n",
    "fig, ax = plt.subplots(figsize=(10,4))\n",
    "ax.plot(x,y,label='Y')\n",
    "ax.plot(a,b,label='A')\n",
    "\n",
    "plt.legend()"
   ]
  },
  {
   "cell_type": "markdown",
   "metadata": {},
   "source": [
    "# it is clear that the means of those two groups are very close.\n",
    "# inferring that the Expeted values for their MQS is also the same."
   ]
  },
  {
   "cell_type": "code",
   "execution_count": null,
   "metadata": {},
   "outputs": [],
   "source": []
  }
 ],
 "metadata": {
  "kernelspec": {
   "display_name": "Python 3",
   "language": "python",
   "name": "python3"
  },
  "language_info": {
   "codemirror_mode": {
    "name": "ipython",
    "version": 3
   },
   "file_extension": ".py",
   "mimetype": "text/x-python",
   "name": "python",
   "nbconvert_exporter": "python",
   "pygments_lexer": "ipython3",
   "version": "3.8.0"
  }
 },
 "nbformat": 4,
 "nbformat_minor": 4
}
